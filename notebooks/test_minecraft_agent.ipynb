{
 "cells": [
  {
   "cell_type": "code",
   "execution_count": null,
   "id": "c35b6fd7-83aa-436c-98c4-744cd5bd9b5f",
   "metadata": {},
   "outputs": [],
   "source": [
    "!pip install javascript"
   ]
  },
  {
   "cell_type": "code",
   "execution_count": null,
   "id": "e5908cc7-df6f-4fc1-a42d-8f3df9180acd",
   "metadata": {},
   "outputs": [],
   "source": [
    "from javascript import require\n",
    "\n",
    "mineflayer = require(\"mineflayer\")\n",
    "pathfinder = require(\"mineflayer-pathfinder\")"
   ]
  },
  {
   "cell_type": "code",
   "execution_count": null,
   "id": "3bbbe197-551f-4e5d-b3bd-e23f0293a1f4",
   "metadata": {},
   "outputs": [],
   "source": [
    "class MinecraftAgent:\n",
    "    def __init__(self, server_ip, port, username):\n",
    "        self.forward, self.back, self.left, self.right, self.jump, self.sprint, self.sneak = (\n",
    "            False,\n",
    "            False,\n",
    "            False,\n",
    "            False,\n",
    "            False,\n",
    "            False,\n",
    "            False,\n",
    "        )\n",
    "        self.bot = mineflayer.createBot({\"host\": server_ip, \"port\": port, \"username\": username})\n",
    "\n",
    "    def setControlState(self, control_state_array):\n",
    "        states = [\"forward\", \"back\", \"left\", \"right\", \"jump\", \"sprint\", \"sneak\"]\n",
    "        for x in range(len(control_state_array)):\n",
    "            self.bot.controlState[states[x]] = control_state_array[x]"
   ]
  },
  {
   "cell_type": "code",
   "execution_count": null,
   "id": "18eaec7f-3786-4172-96d8-0d421c654747",
   "metadata": {},
   "outputs": [],
   "source": [
    "testowy_bocik = MinecraftAgent(\"26.70.149.205\", 25565, \"testowy_bocik\")"
   ]
  },
  {
   "cell_type": "code",
   "execution_count": null,
   "id": "0e71012a-b7ce-4681-9dfd-3d4db8c3542c",
   "metadata": {},
   "outputs": [],
   "source": [
    "testowy_bocik.bot.controlState = {\"forward\": True}"
   ]
  },
  {
   "cell_type": "code",
   "execution_count": null,
   "id": "246d81fc-5aa9-485f-b5e5-999e516eae5b",
   "metadata": {},
   "outputs": [],
   "source": [
    "testowy_bocik.setControlState([True, False, False, False, True, False, False])"
   ]
  },
  {
   "cell_type": "code",
   "execution_count": null,
   "id": "88c402bf-ca41-48c1-8397-57681d370f58",
   "metadata": {},
   "outputs": [],
   "source": [
    "print(testowy_bocik.bot.controlState[\"forward\"])"
   ]
  },
  {
   "cell_type": "code",
   "execution_count": null,
   "id": "796a130e-c4d4-46a5-959c-c32d46666181",
   "metadata": {},
   "outputs": [],
   "source": []
  },
  {
   "cell_type": "code",
   "execution_count": null,
   "id": "be5782dc-b3c6-4dbf-bee3-dde636696cba",
   "metadata": {},
   "outputs": [],
   "source": [
    "print(testowy_bocik.bot.control)"
   ]
  },
  {
   "cell_type": "code",
   "execution_count": null,
   "id": "afa8cf84-6178-420d-b7c2-18b09906fd83",
   "metadata": {},
   "outputs": [],
   "source": []
  }
 ],
 "metadata": {
  "kernelspec": {
   "display_name": "Python 3 (ipykernel)",
   "language": "python",
   "name": "python3"
  },
  "language_info": {
   "codemirror_mode": {
    "name": "ipython",
    "version": 3
   },
   "file_extension": ".py",
   "mimetype": "text/x-python",
   "name": "python",
   "nbconvert_exporter": "python",
   "pygments_lexer": "ipython3",
   "version": "3.9.18"
  }
 },
 "nbformat": 4,
 "nbformat_minor": 5
}
