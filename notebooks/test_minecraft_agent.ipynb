{
 "cells": [
  {
   "cell_type": "code",
   "execution_count": null,
   "id": "c35b6fd7-83aa-436c-98c4-744cd5bd9b5f",
   "metadata": {},
   "outputs": [],
   "source": [
    "!pip install javascript"
   ]
  },
  {
   "cell_type": "code",
   "execution_count": 1,
   "id": "e5908cc7-df6f-4fc1-a42d-8f3df9180acd",
   "metadata": {},
   "outputs": [
    {
     "name": "stdout",
     "output_type": "stream",
     "text": [
      "\u001b[1m Installing 'mineflayer-pathfinder' version 'latest'... This will only happen once. \u001b[0m\n",
      "\n",
      "\n",
      "\n",
      "added 1 package, and audited 99 packages in 4s\n",
      "\n",
      "\n",
      "\n",
      "9 packages are looking for funding\n",
      "\n",
      "  run `npm fund` for details\n",
      "\n",
      "\n",
      "\n",
      "5 moderate severity vulnerabilities\n",
      "\n",
      "\n",
      "\n",
      "To address all issues (including breaking changes), run:\n",
      "\n",
      "  npm audit fix --force\n",
      "\n",
      "\n",
      "\n",
      "Run `npm audit` for details.\n",
      "\n",
      "[JSE] \n",
      "\n",
      "[JSE] \n",
      "\n",
      "\n",
      "\n",
      "\u001b[1m OK. \u001b[0m\n",
      "\n",
      "Error: client timed out after 6000 milliseconds\n",
      "\n",
      "    at Timeout._onTimeout (E:\\studia\\systemy_inteligentne\\bedwarsRL\\env\\lib\\site-packages\\javascript\\js\\node_modules\\\u001b[4mminecraft-protocol\u001b[24m\\src\\client\\keepalive.js:18:28)\n",
      "\n",
      "\u001b[90m    at listOnTimeout (node:internal/timers:573:17)\u001b[39m\n",
      "\n",
      "\u001b[90m    at process.processTimers (node:internal/timers:514:7)\u001b[39m\n",
      "\n",
      "Error: client timed out after 6000 milliseconds\n",
      "\n",
      "    at Timeout._onTimeout (E:\\studia\\systemy_inteligentne\\bedwarsRL\\env\\lib\\site-packages\\javascript\\js\\node_modules\\\u001b[4mminecraft-protocol\u001b[24m\\src\\client\\keepalive.js:18:28)\n",
      "\n",
      "\u001b[90m    at listOnTimeout (node:internal/timers:573:17)\u001b[39m\n",
      "\n",
      "\u001b[90m    at process.processTimers (node:internal/timers:514:7)\u001b[39m\n",
      "\n"
     ]
    }
   ],
   "source": [
    "from javascript import require\n",
    "\n",
    "mineflayer = require(\"mineflayer\")\n",
    "pathfinder = require(\"mineflayer-pathfinder\")"
   ]
  },
  {
   "cell_type": "code",
   "execution_count": 2,
   "id": "3bbbe197-551f-4e5d-b3bd-e23f0293a1f4",
   "metadata": {},
   "outputs": [],
   "source": [
    "from src.agents.minecraft_agent import MinecraftAgent\n"
   ]
  },
  {
   "cell_type": "code",
   "execution_count": 3,
   "id": "18eaec7f-3786-4172-96d8-0d421c654747",
   "metadata": {},
   "outputs": [],
   "source": [
    "agent_1 = MinecraftAgent(server_ip=\"127.0.0.1\", port=25565, username=\"bot1\", enemy=\"bot2\")\n",
    "agent_2 = MinecraftAgent(server_ip=\"127.0.0.1\", port=25565, username=\"bot2\", enemy=\"bot1\")"
   ]
  },
  {
   "cell_type": "code",
   "execution_count": null,
   "id": "0e71012a-b7ce-4681-9dfd-3d4db8c3542c",
   "metadata": {},
   "outputs": [],
   "source": [
    "testowy_bocik.bot.controlState = {\"forward\": True}"
   ]
  },
  {
   "cell_type": "code",
   "execution_count": null,
   "id": "246d81fc-5aa9-485f-b5e5-999e516eae5b",
   "metadata": {},
   "outputs": [],
   "source": [
    "testowy_bocik.setControlState([True, False, False, False, True, False, False])"
   ]
  },
  {
   "cell_type": "code",
   "execution_count": null,
   "id": "88c402bf-ca41-48c1-8397-57681d370f58",
   "metadata": {},
   "outputs": [],
   "source": [
    "print(testowy_bocik.bot.controlState[\"forward\"])"
   ]
  },
  {
   "cell_type": "code",
   "execution_count": null,
   "id": "796a130e-c4d4-46a5-959c-c32d46666181",
   "metadata": {},
   "outputs": [],
   "source": []
  },
  {
   "cell_type": "code",
   "execution_count": null,
   "id": "be5782dc-b3c6-4dbf-bee3-dde636696cba",
   "metadata": {},
   "outputs": [],
   "source": [
    "print(testowy_bocik.bot.control)"
   ]
  },
  {
   "cell_type": "code",
   "execution_count": 1,
   "id": "afa8cf84-6178-420d-b7c2-18b09906fd83",
   "metadata": {},
   "outputs": [],
   "source": [
    "from src.train.train_dqn import train_dqn"
   ]
  },
  {
   "cell_type": "code",
   "execution_count": 2,
   "id": "3e45eacb-a285-490d-9200-d4511a8bd292",
   "metadata": {},
   "outputs": [
    {
     "name": "stdout",
     "output_type": "stream",
     "text": [
      "Error: client timed out after 6000 milliseconds\n",
      "\n",
      "    at Timeout._onTimeout (E:\\studia\\systemy_inteligentne\\bedwarsRL\\env\\lib\\site-packages\\javascript\\js\\node_modules\\\u001b[4mminecraft-protocol\u001b[24m\\src\\client\\keepalive.js:18:28)\n",
      "\n",
      "\u001b[90m    at listOnTimeout (node:internal/timers:573:17)\u001b[39m\n",
      "\n",
      "\u001b[90m    at process.processTimers (node:internal/timers:514:7)\u001b[39m\n",
      "\n",
      "Error: client timed out after 6000 milliseconds\n",
      "\n",
      "    at Timeout._onTimeout (E:\\studia\\systemy_inteligentne\\bedwarsRL\\env\\lib\\site-packages\\javascript\\js\\node_modules\\\u001b[4mminecraft-protocol\u001b[24m\\src\\client\\keepalive.js:18:28)\n",
      "\n",
      "\u001b[90m    at listOnTimeout (node:internal/timers:573:17)\u001b[39m\n",
      "\n",
      "\u001b[90m    at process.processTimers (node:internal/timers:514:7)\u001b[39m\n",
      "\n"
     ]
    }
   ],
   "source": [
    "from src.environments.gym_1_vs_1 import MinecraftGym\n"
   ]
  },
  {
   "cell_type": "code",
   "execution_count": 3,
   "id": "e53bda22-f320-47b3-a73d-957369318ba9",
   "metadata": {},
   "outputs": [
    {
     "name": "stderr",
     "output_type": "stream",
     "text": [
      "ERROR:root:Error in getting observations: Incorrect observation shape: (2, 8)\n",
      "ERROR:root:Error in step: invalid index to scalar variable.\n",
      "ERROR:root:Error in step: invalid index to scalar variable.\n",
      "ERROR:root:Error in step: invalid index to scalar variable.\n",
      "ERROR:root:Error in step: invalid index to scalar variable.\n",
      "ERROR:root:Error in step: invalid index to scalar variable.\n",
      "ERROR:root:Error in step: invalid index to scalar variable.\n",
      "ERROR:root:Error in step: invalid index to scalar variable.\n",
      "ERROR:root:Error in step: invalid index to scalar variable.\n",
      "ERROR:root:Error in step: invalid index to scalar variable.\n",
      "ERROR:root:Error in step: invalid index to scalar variable.\n",
      "ERROR:root:Error in step: invalid index to scalar variable.\n",
      "ERROR:root:Error in step: invalid index to scalar variable.\n",
      "ERROR:root:Error in step: invalid index to scalar variable.\n",
      "ERROR:root:Error in step: invalid index to scalar variable.\n",
      "ERROR:root:Error in step: invalid index to scalar variable.\n",
      "ERROR:root:Error in step: invalid index to scalar variable.\n",
      "ERROR:root:Error in step: invalid index to scalar variable.\n",
      "ERROR:root:Error in step: invalid index to scalar variable.\n",
      "ERROR:root:Error in step: invalid index to scalar variable.\n",
      "ERROR:root:Error in step: invalid index to scalar variable.\n",
      "ERROR:root:Error in step: invalid index to scalar variable.\n",
      "ERROR:root:Error in step: invalid index to scalar variable.\n",
      "ERROR:root:Error in step: invalid index to scalar variable.\n",
      "ERROR:root:Error in step: invalid index to scalar variable.\n",
      "ERROR:root:Error in step: invalid index to scalar variable.\n",
      "ERROR:root:Error in step: invalid index to scalar variable.\n",
      "ERROR:root:Error in step: invalid index to scalar variable.\n",
      "ERROR:root:Error in step: invalid index to scalar variable.\n",
      "ERROR:root:Error in step: invalid index to scalar variable.\n",
      "ERROR:root:Error in step: invalid index to scalar variable.\n",
      "ERROR:root:Error in step: invalid index to scalar variable.\n",
      "ERROR:root:Error in step: invalid index to scalar variable.\n",
      "ERROR:root:Error in step: invalid index to scalar variable.\n",
      "ERROR:root:Error in step: invalid index to scalar variable.\n",
      "ERROR:root:Error in step: invalid index to scalar variable.\n",
      "ERROR:root:Error in step: invalid index to scalar variable.\n",
      "ERROR:root:Error in step: invalid index to scalar variable.\n",
      "ERROR:root:Error in step: invalid index to scalar variable.\n",
      "ERROR:root:Error in step: invalid index to scalar variable.\n",
      "ERROR:root:Error in step: invalid index to scalar variable.\n",
      "ERROR:root:Error in step: invalid index to scalar variable.\n",
      "ERROR:root:Error in step: invalid index to scalar variable.\n",
      "ERROR:root:Error in step: invalid index to scalar variable.\n",
      "ERROR:root:Error in step: invalid index to scalar variable.\n",
      "ERROR:root:Error in step: invalid index to scalar variable.\n",
      "ERROR:root:Error in step: invalid index to scalar variable.\n",
      "ERROR:root:Error in step: invalid index to scalar variable.\n",
      "ERROR:root:Error in step: invalid index to scalar variable.\n",
      "ERROR:root:Error in step: invalid index to scalar variable.\n",
      "ERROR:root:Error in step: invalid index to scalar variable.\n",
      "ERROR:root:Error in step: invalid index to scalar variable.\n",
      "ERROR:root:Error in step: invalid index to scalar variable.\n",
      "ERROR:root:Error in step: invalid index to scalar variable.\n",
      "ERROR:root:Error in step: invalid index to scalar variable.\n",
      "ERROR:root:Error in step: invalid index to scalar variable.\n",
      "ERROR:root:Error in step: invalid index to scalar variable.\n",
      "ERROR:root:Error in step: invalid index to scalar variable.\n",
      "ERROR:root:Error in step: invalid index to scalar variable.\n",
      "ERROR:root:Error in step: invalid index to scalar variable.\n",
      "ERROR:root:Error in step: invalid index to scalar variable.\n",
      "ERROR:root:Error in step: invalid index to scalar variable.\n",
      "ERROR:root:Error in step: invalid index to scalar variable.\n",
      "ERROR:root:Error in step: invalid index to scalar variable.\n",
      "ERROR:root:Error in step: invalid index to scalar variable.\n"
     ]
    },
    {
     "ename": "RuntimeError",
     "evalue": "Sizes of tensors must match except in dimension 0. Expected size 49 but got size 4 for tensor number 24 in the list.",
     "output_type": "error",
     "traceback": [
      "\u001b[1;31m-----------------------------------------------------------\u001b[0m",
      "\u001b[1;31mRuntimeError\u001b[0m              Traceback (most recent call last)",
      "Cell \u001b[1;32mIn[3], line 2\u001b[0m\n\u001b[0;32m      1\u001b[0m env \u001b[38;5;241m=\u001b[39m MinecraftGym()\n\u001b[1;32m----> 2\u001b[0m \u001b[43mtrain_dqn\u001b[49m\u001b[43m(\u001b[49m\u001b[43menv\u001b[49m\u001b[43m,\u001b[49m\u001b[43m \u001b[49m\u001b[43mnum_episodes\u001b[49m\u001b[38;5;241;43m=\u001b[39;49m\u001b[38;5;241;43m1000\u001b[39;49m\u001b[43m,\u001b[49m\u001b[43m \u001b[49m\u001b[43mbatch_size\u001b[49m\u001b[38;5;241;43m=\u001b[39;49m\u001b[38;5;241;43m64\u001b[39;49m\u001b[43m)\u001b[49m\n",
      "File \u001b[1;32me:\\studia\\systemy_inteligentne\\bedwarsrl\\src\\train\\train_dqn.py:107\u001b[0m, in \u001b[0;36mtrain_dqn\u001b[1;34m(env, num_episodes, batch_size, gamma, epsilon_start, epsilon_end, epsilon_decay, target_update, memory_capacity)\u001b[0m\n\u001b[0;32m    103\u001b[0m memory\u001b[38;5;241m.\u001b[39mpush(state, action, next_state, reward)\n\u001b[0;32m    105\u001b[0m state \u001b[38;5;241m=\u001b[39m next_state\n\u001b[1;32m--> 107\u001b[0m \u001b[43moptimize_model\u001b[49m\u001b[43m(\u001b[49m\u001b[43m)\u001b[49m\n\u001b[0;32m    109\u001b[0m \u001b[38;5;28;01mif\u001b[39;00m done \u001b[38;5;129;01mor\u001b[39;00m truncated:\n\u001b[0;32m    110\u001b[0m     \u001b[38;5;28;01mbreak\u001b[39;00m\n",
      "File \u001b[1;32me:\\studia\\systemy_inteligentne\\bedwarsrl\\src\\train\\train_dqn.py:72\u001b[0m, in \u001b[0;36mtrain_dqn.<locals>.optimize_model\u001b[1;34m()\u001b[0m\n\u001b[0;32m     69\u001b[0m batch \u001b[38;5;241m=\u001b[39m memory\u001b[38;5;241m.\u001b[39mTransition(\u001b[38;5;241m*\u001b[39m\u001b[38;5;28mzip\u001b[39m(\u001b[38;5;241m*\u001b[39mtransitions))\n\u001b[0;32m     71\u001b[0m state_batch \u001b[38;5;241m=\u001b[39m torch\u001b[38;5;241m.\u001b[39mcat(batch\u001b[38;5;241m.\u001b[39mstate)\n\u001b[1;32m---> 72\u001b[0m action_batch \u001b[38;5;241m=\u001b[39m \u001b[43mtorch\u001b[49m\u001b[38;5;241;43m.\u001b[39;49m\u001b[43mcat\u001b[49m\u001b[43m(\u001b[49m\u001b[43mbatch\u001b[49m\u001b[38;5;241;43m.\u001b[39;49m\u001b[43maction\u001b[49m\u001b[43m)\u001b[49m\n\u001b[0;32m     73\u001b[0m reward_batch \u001b[38;5;241m=\u001b[39m torch\u001b[38;5;241m.\u001b[39mcat(batch\u001b[38;5;241m.\u001b[39mreward)\n\u001b[0;32m     74\u001b[0m next_state_batch \u001b[38;5;241m=\u001b[39m torch\u001b[38;5;241m.\u001b[39mcat(batch\u001b[38;5;241m.\u001b[39mnext_state)\n",
      "\u001b[1;31mRuntimeError\u001b[0m: Sizes of tensors must match except in dimension 0. Expected size 49 but got size 4 for tensor number 24 in the list."
     ]
    }
   ],
   "source": [
    "env = MinecraftGym()\n",
    "train_dqn(env, num_episodes=1000, batch_size=64)"
   ]
  },
  {
   "cell_type": "code",
   "execution_count": null,
   "id": "744d23ee-aee7-43c9-a649-643c1a84f24a",
   "metadata": {},
   "outputs": [],
   "source": []
  }
 ],
 "metadata": {
  "kernelspec": {
   "display_name": "Python 3 (ipykernel)",
   "language": "python",
   "name": "python3"
  },
  "language_info": {
   "codemirror_mode": {
    "name": "ipython",
    "version": 3
   },
   "file_extension": ".py",
   "mimetype": "text/x-python",
   "name": "python",
   "nbconvert_exporter": "python",
   "pygments_lexer": "ipython3",
   "version": "3.9.19"
  }
 },
 "nbformat": 4,
 "nbformat_minor": 5
}
