{
 "cells": [
  {
   "cell_type": "code",
   "execution_count": 1,
   "id": "initial_id",
   "metadata": {
    "ExecuteTime": {
     "end_time": "2024-06-02T14:25:44.750967Z",
     "start_time": "2024-06-02T14:25:40.493685Z"
    }
   },
   "outputs": [
    {
     "name": "stderr",
     "output_type": "stream",
     "text": [
      "Exception in thread Thread-7:\n",
      "Traceback (most recent call last):\n",
      "  File \"e:\\studia\\systemy_inteligentne\\bedwarsRL\\env\\lib\\threading.py\", line 980, in _bootstrap_inner\n",
      "    self.run()\n",
      "  File \"e:\\studia\\systemy_inteligentne\\bedwarsRL\\env\\lib\\site-packages\\ipykernel\\ipkernel.py\", line 761, in run_closure\n",
      "    _threading_Thread_run(self)\n",
      "  File \"e:\\studia\\systemy_inteligentne\\bedwarsRL\\env\\lib\\threading.py\", line 917, in run\n",
      "    self._target(*self._args, **self._kwargs)\n",
      "  File \"e:\\studia\\systemy_inteligentne\\bedwarsRL\\env\\lib\\site-packages\\javascript\\events.py\", line 184, in loop\n",
      "    barrier.wait()\n",
      "  File \"e:\\studia\\systemy_inteligentne\\bedwarsRL\\env\\lib\\threading.py\", line 642, in wait\n",
      "    self._wait(timeout)\n",
      "  File \"e:\\studia\\systemy_inteligentne\\bedwarsRL\\env\\lib\\threading.py\", line 680, in _wait\n",
      "    raise BrokenBarrierError\n",
      "threading.BrokenBarrierError\n"
     ]
    }
   ],
   "source": [
    "from src.environments.gym_1_vs_1 import MinecraftGym\n",
    "from src.train.train_dqn import train_dqn"
   ]
  },
  {
   "cell_type": "code",
   "execution_count": null,
   "id": "66fa4289cc31a396",
   "metadata": {
    "ExecuteTime": {
     "end_time": "2024-06-02T14:25:55.505564Z",
     "start_time": "2024-06-02T14:25:44.752963Z"
    }
   },
   "outputs": [],
   "source": [
    "mc_gym = MinecraftGym()"
   ]
  },
  {
   "cell_type": "code",
   "execution_count": 3,
   "id": "c7125349cc894a8d",
   "metadata": {
    "ExecuteTime": {
     "end_time": "2024-06-02T14:28:17.191832Z",
     "start_time": "2024-06-02T14:25:55.508864Z"
    }
   },
   "outputs": [
    {
     "ename": "KeyboardInterrupt",
     "evalue": "",
     "output_type": "error",
     "traceback": [
      "\u001b[1;31m---------------------------------------------------------------------------\u001b[0m",
      "\u001b[1;31mKeyboardInterrupt\u001b[0m                         Traceback (most recent call last)",
      "Cell \u001b[1;32mIn[3], line 1\u001b[0m\n\u001b[1;32m----> 1\u001b[0m \u001b[43mtrain_dqn\u001b[49m\u001b[43m(\u001b[49m\u001b[43mmc_gym\u001b[49m\u001b[43m,\u001b[49m\u001b[43m \u001b[49m\u001b[43mnum_episodes\u001b[49m\u001b[38;5;241;43m=\u001b[39;49m\u001b[38;5;241;43m1000\u001b[39;49m\u001b[43m,\u001b[49m\u001b[43m \u001b[49m\u001b[43mbatch_size\u001b[49m\u001b[38;5;241;43m=\u001b[39;49m\u001b[38;5;241;43m64\u001b[39;49m\u001b[43m)\u001b[49m\n",
      "File \u001b[1;32me:\\studia\\systemy_inteligentne\\bedwarsrl\\src\\train\\train_dqn.py:137\u001b[0m, in \u001b[0;36mtrain_dqn\u001b[1;34m(env, num_episodes, batch_size, gamma, epsilon_start, epsilon_end, epsilon_decay, target_update, memory_capacity)\u001b[0m\n\u001b[0;32m    135\u001b[0m time\u001b[38;5;241m.\u001b[39msleep(\u001b[38;5;241m0.05\u001b[39m)\n\u001b[0;32m    136\u001b[0m action \u001b[38;5;241m=\u001b[39m select_action(state)\n\u001b[1;32m--> 137\u001b[0m next_state, reward, done, truncated, _ \u001b[38;5;241m=\u001b[39m \u001b[43menv\u001b[49m\u001b[38;5;241;43m.\u001b[39;49m\u001b[43mstep\u001b[49m\u001b[43m(\u001b[49m\u001b[43maction\u001b[49m\u001b[43m)\u001b[49m\n\u001b[0;32m    138\u001b[0m \u001b[38;5;28;01mif\u001b[39;00m next_state \u001b[38;5;129;01mis\u001b[39;00m \u001b[38;5;28;01mNone\u001b[39;00m \u001b[38;5;129;01mor\u001b[39;00m next_state\u001b[38;5;241m.\u001b[39mshape \u001b[38;5;241m!=\u001b[39m (\u001b[38;5;241m8\u001b[39m,):\n\u001b[0;32m    139\u001b[0m     logger\u001b[38;5;241m.\u001b[39merror(\u001b[38;5;124mf\u001b[39m\u001b[38;5;124m\"\u001b[39m\u001b[38;5;124mSkipping step \u001b[39m\u001b[38;5;132;01m{\u001b[39;00mt\u001b[38;5;132;01m}\u001b[39;00m\u001b[38;5;124m in episode \u001b[39m\u001b[38;5;132;01m{\u001b[39;00mepisode\u001b[38;5;132;01m}\u001b[39;00m\u001b[38;5;124m due to invalid next state.\u001b[39m\u001b[38;5;124m\"\u001b[39m)\n",
      "File \u001b[1;32me:\\studia\\systemy_inteligentne\\bedwarsrl\\src\\environments\\gym_1_vs_1.py:84\u001b[0m, in \u001b[0;36mMinecraftGym.step\u001b[1;34m(self, action)\u001b[0m\n\u001b[0;32m     82\u001b[0m \u001b[38;5;28;01mtry\u001b[39;00m:\n\u001b[0;32m     83\u001b[0m     reward \u001b[38;5;241m=\u001b[39m \u001b[38;5;241m0\u001b[39m\n\u001b[1;32m---> 84\u001b[0m     reward \u001b[38;5;241m+\u001b[39m\u001b[38;5;241m=\u001b[39m \u001b[38;5;28;43mself\u001b[39;49m\u001b[38;5;241;43m.\u001b[39;49m\u001b[43mcurrent_agent\u001b[49m\u001b[38;5;241;43m.\u001b[39;49m\u001b[43mupdate_agent_state\u001b[49m\u001b[43m(\u001b[49m\u001b[43maction\u001b[49m\u001b[43m)\u001b[49m\n\u001b[0;32m     85\u001b[0m     logger\u001b[38;5;241m.\u001b[39mdebug(\u001b[38;5;124mf\u001b[39m\u001b[38;5;124m\"\u001b[39m\u001b[38;5;124mUpdated agent state with action \u001b[39m\u001b[38;5;132;01m{\u001b[39;00maction\u001b[38;5;132;01m}\u001b[39;00m\u001b[38;5;124m, reward: \u001b[39m\u001b[38;5;132;01m{\u001b[39;00mreward\u001b[38;5;132;01m}\u001b[39;00m\u001b[38;5;124m\"\u001b[39m)\n\u001b[0;32m     87\u001b[0m     observation \u001b[38;5;241m=\u001b[39m \u001b[38;5;28mself\u001b[39m\u001b[38;5;241m.\u001b[39mget_observation()\n",
      "File \u001b[1;32me:\\studia\\systemy_inteligentne\\bedwarsrl\\src\\agents\\minecraft_agent.py:95\u001b[0m, in \u001b[0;36mMinecraftAgent.update_agent_state\u001b[1;34m(self, state)\u001b[0m\n\u001b[0;32m     92\u001b[0m     logger\u001b[38;5;241m.\u001b[39minfo(\u001b[38;5;124mf\u001b[39m\u001b[38;5;124m\"\u001b[39m\u001b[38;5;124mInitial distance to enemy set: \u001b[39m\u001b[38;5;132;01m{\u001b[39;00m\u001b[38;5;28mself\u001b[39m\u001b[38;5;241m.\u001b[39mprevious_distance\u001b[38;5;132;01m}\u001b[39;00m\u001b[38;5;124m\"\u001b[39m)\n\u001b[0;32m     94\u001b[0m control_state \u001b[38;5;241m=\u001b[39m state[:\u001b[38;5;241m7\u001b[39m]\n\u001b[1;32m---> 95\u001b[0m \u001b[38;5;28;43mself\u001b[39;49m\u001b[38;5;241;43m.\u001b[39;49m\u001b[43mset_control_state\u001b[49m\u001b[43m(\u001b[49m\u001b[43mcontrol_state\u001b[49m\u001b[43m)\u001b[49m\n\u001b[0;32m     97\u001b[0m \u001b[38;5;28mself\u001b[39m\u001b[38;5;241m.\u001b[39mlook_around(state[\u001b[38;5;241m7\u001b[39m], state[\u001b[38;5;241m8\u001b[39m])\n\u001b[0;32m     99\u001b[0m \u001b[38;5;28;01mif\u001b[39;00m state[\u001b[38;5;241m9\u001b[39m]:\n",
      "File \u001b[1;32me:\\studia\\systemy_inteligentne\\bedwarsrl\\src\\agents\\minecraft_agent.py:47\u001b[0m, in \u001b[0;36mMinecraftAgent.set_control_state\u001b[1;34m(self, control_state_array)\u001b[0m\n\u001b[0;32m     45\u001b[0m     \u001b[38;5;28;01mif\u001b[39;00m value \u001b[38;5;241m!=\u001b[39m control_state_array[i]:\n\u001b[0;32m     46\u001b[0m         \u001b[38;5;28mself\u001b[39m\u001b[38;5;241m.\u001b[39mcontrol_state[key] \u001b[38;5;241m=\u001b[39m control_state_array[i]\n\u001b[1;32m---> 47\u001b[0m         \u001b[38;5;28;43mself\u001b[39;49m\u001b[38;5;241;43m.\u001b[39;49m\u001b[43mbot\u001b[49m\u001b[38;5;241;43m.\u001b[39;49m\u001b[43mcontrolState\u001b[49m[key] \u001b[38;5;241m=\u001b[39m control_state_array[i]\n\u001b[0;32m     48\u001b[0m logger\u001b[38;5;241m.\u001b[39minfo(\u001b[38;5;124mf\u001b[39m\u001b[38;5;124m\"\u001b[39m\u001b[38;5;124mControl state set to: \u001b[39m\u001b[38;5;132;01m{\u001b[39;00m\u001b[38;5;28mself\u001b[39m\u001b[38;5;241m.\u001b[39mcontrol_state\u001b[38;5;132;01m}\u001b[39;00m\u001b[38;5;124m\"\u001b[39m)\n",
      "File \u001b[1;32me:\\studia\\systemy_inteligentne\\bedwarsRL\\env\\lib\\site-packages\\javascript\\proxy.py:230\u001b[0m, in \u001b[0;36mProxy.__getattr__\u001b[1;34m(self, attr)\u001b[0m\n\u001b[0;32m    228\u001b[0m \u001b[38;5;28;01mif\u001b[39;00m attr \u001b[38;5;241m==\u001b[39m \u001b[38;5;124m\"\u001b[39m\u001b[38;5;124mnew\u001b[39m\u001b[38;5;124m\"\u001b[39m:\n\u001b[0;32m    229\u001b[0m     \u001b[38;5;28;01mreturn\u001b[39;00m \u001b[38;5;28mself\u001b[39m\u001b[38;5;241m.\u001b[39m_call(\u001b[38;5;28mself\u001b[39m\u001b[38;5;241m.\u001b[39m_pname \u001b[38;5;28;01mif\u001b[39;00m \u001b[38;5;28mself\u001b[39m\u001b[38;5;241m.\u001b[39m_pffid \u001b[38;5;241m==\u001b[39m \u001b[38;5;28mself\u001b[39m\u001b[38;5;241m.\u001b[39mffid \u001b[38;5;28;01melse\u001b[39;00m \u001b[38;5;124m\"\u001b[39m\u001b[38;5;124m\"\u001b[39m, \u001b[38;5;124m\"\u001b[39m\u001b[38;5;124mclass\u001b[39m\u001b[38;5;124m\"\u001b[39m, \u001b[38;5;28mself\u001b[39m\u001b[38;5;241m.\u001b[39m_pffid)\n\u001b[1;32m--> 230\u001b[0m methodType, val \u001b[38;5;241m=\u001b[39m \u001b[38;5;28;43mself\u001b[39;49m\u001b[38;5;241;43m.\u001b[39;49m\u001b[43m_exe\u001b[49m\u001b[38;5;241;43m.\u001b[39;49m\u001b[43mgetProp\u001b[49m\u001b[43m(\u001b[49m\u001b[38;5;28;43mself\u001b[39;49m\u001b[38;5;241;43m.\u001b[39;49m\u001b[43m_pffid\u001b[49m\u001b[43m,\u001b[49m\u001b[43m \u001b[49m\u001b[43mattr\u001b[49m\u001b[43m)\u001b[49m\n\u001b[0;32m    231\u001b[0m \u001b[38;5;28;01mreturn\u001b[39;00m \u001b[38;5;28mself\u001b[39m\u001b[38;5;241m.\u001b[39m_call(attr, methodType, val)\n",
      "File \u001b[1;32me:\\studia\\systemy_inteligentne\\bedwarsRL\\env\\lib\\site-packages\\javascript\\proxy.py:150\u001b[0m, in \u001b[0;36mExecutor.getProp\u001b[1;34m(self, ffid, method)\u001b[0m\n\u001b[0;32m    149\u001b[0m \u001b[38;5;28;01mdef\u001b[39;00m \u001b[38;5;21mgetProp\u001b[39m(\u001b[38;5;28mself\u001b[39m, ffid, method):\n\u001b[1;32m--> 150\u001b[0m     resp \u001b[38;5;241m=\u001b[39m \u001b[38;5;28;43mself\u001b[39;49m\u001b[38;5;241;43m.\u001b[39;49m\u001b[43mipc\u001b[49m\u001b[43m(\u001b[49m\u001b[38;5;124;43m\"\u001b[39;49m\u001b[38;5;124;43mget\u001b[39;49m\u001b[38;5;124;43m\"\u001b[39;49m\u001b[43m,\u001b[49m\u001b[43m \u001b[49m\u001b[43mffid\u001b[49m\u001b[43m,\u001b[49m\u001b[43m \u001b[49m\u001b[43mmethod\u001b[49m\u001b[43m)\u001b[49m\n\u001b[0;32m    151\u001b[0m     \u001b[38;5;28;01mreturn\u001b[39;00m resp[\u001b[38;5;124m\"\u001b[39m\u001b[38;5;124mkey\u001b[39m\u001b[38;5;124m\"\u001b[39m], resp[\u001b[38;5;124m\"\u001b[39m\u001b[38;5;124mval\u001b[39m\u001b[38;5;124m\"\u001b[39m]\n",
      "File \u001b[1;32me:\\studia\\systemy_inteligentne\\bedwarsRL\\env\\lib\\site-packages\\javascript\\proxy.py:39\u001b[0m, in \u001b[0;36mExecutor.ipc\u001b[1;34m(self, action, ffid, attr, args)\u001b[0m\n\u001b[0;32m     36\u001b[0m \u001b[38;5;28;01melse\u001b[39;00m:\n\u001b[0;32m     37\u001b[0m     \u001b[38;5;28;01massert\u001b[39;00m \u001b[38;5;28;01mFalse\u001b[39;00m, \u001b[38;5;124mf\u001b[39m\u001b[38;5;124m\"\u001b[39m\u001b[38;5;124mUnhandled action \u001b[39m\u001b[38;5;124m'\u001b[39m\u001b[38;5;132;01m{\u001b[39;00maction\u001b[38;5;132;01m}\u001b[39;00m\u001b[38;5;124m'\u001b[39m\u001b[38;5;124m\"\u001b[39m\n\u001b[1;32m---> 39\u001b[0m \u001b[38;5;28;01mif\u001b[39;00m \u001b[38;5;129;01mnot\u001b[39;00m \u001b[43ml\u001b[49m\u001b[38;5;241;43m.\u001b[39;49m\u001b[43mwait\u001b[49m\u001b[43m(\u001b[49m\u001b[38;5;241;43m10\u001b[39;49m\u001b[43m)\u001b[49m:\n\u001b[0;32m     40\u001b[0m     \u001b[38;5;28;01mif\u001b[39;00m \u001b[38;5;129;01mnot\u001b[39;00m config\u001b[38;5;241m.\u001b[39mevent_thread:\n\u001b[0;32m     41\u001b[0m         \u001b[38;5;28mprint\u001b[39m(config\u001b[38;5;241m.\u001b[39mdead)\n",
      "File \u001b[1;32me:\\studia\\systemy_inteligentne\\bedwarsRL\\env\\lib\\threading.py:581\u001b[0m, in \u001b[0;36mEvent.wait\u001b[1;34m(self, timeout)\u001b[0m\n\u001b[0;32m    579\u001b[0m signaled \u001b[38;5;241m=\u001b[39m \u001b[38;5;28mself\u001b[39m\u001b[38;5;241m.\u001b[39m_flag\n\u001b[0;32m    580\u001b[0m \u001b[38;5;28;01mif\u001b[39;00m \u001b[38;5;129;01mnot\u001b[39;00m signaled:\n\u001b[1;32m--> 581\u001b[0m     signaled \u001b[38;5;241m=\u001b[39m \u001b[38;5;28;43mself\u001b[39;49m\u001b[38;5;241;43m.\u001b[39;49m\u001b[43m_cond\u001b[49m\u001b[38;5;241;43m.\u001b[39;49m\u001b[43mwait\u001b[49m\u001b[43m(\u001b[49m\u001b[43mtimeout\u001b[49m\u001b[43m)\u001b[49m\n\u001b[0;32m    582\u001b[0m \u001b[38;5;28;01mreturn\u001b[39;00m signaled\n",
      "File \u001b[1;32me:\\studia\\systemy_inteligentne\\bedwarsRL\\env\\lib\\threading.py:316\u001b[0m, in \u001b[0;36mCondition.wait\u001b[1;34m(self, timeout)\u001b[0m\n\u001b[0;32m    314\u001b[0m \u001b[38;5;28;01melse\u001b[39;00m:\n\u001b[0;32m    315\u001b[0m     \u001b[38;5;28;01mif\u001b[39;00m timeout \u001b[38;5;241m>\u001b[39m \u001b[38;5;241m0\u001b[39m:\n\u001b[1;32m--> 316\u001b[0m         gotit \u001b[38;5;241m=\u001b[39m \u001b[43mwaiter\u001b[49m\u001b[38;5;241;43m.\u001b[39;49m\u001b[43macquire\u001b[49m\u001b[43m(\u001b[49m\u001b[38;5;28;43;01mTrue\u001b[39;49;00m\u001b[43m,\u001b[49m\u001b[43m \u001b[49m\u001b[43mtimeout\u001b[49m\u001b[43m)\u001b[49m\n\u001b[0;32m    317\u001b[0m     \u001b[38;5;28;01melse\u001b[39;00m:\n\u001b[0;32m    318\u001b[0m         gotit \u001b[38;5;241m=\u001b[39m waiter\u001b[38;5;241m.\u001b[39macquire(\u001b[38;5;28;01mFalse\u001b[39;00m)\n",
      "\u001b[1;31mKeyboardInterrupt\u001b[0m: "
     ]
    }
   ],
   "source": [
    "train_dqn(mc_gym, num_episodes=1000, batch_size=64)"
   ]
  },
  {
   "cell_type": "code",
   "execution_count": null,
   "id": "e46ccd9a-9a93-45b6-a506-37272f61279a",
   "metadata": {
    "ExecuteTime": {
     "end_time": "2024-06-02T14:28:17.207389Z",
     "start_time": "2024-06-02T14:28:17.194827Z"
    }
   },
   "outputs": [],
   "source": []
  },
  {
   "cell_type": "code",
   "execution_count": null,
   "id": "dd1ed278-a324-49b6-864f-d6372f59418f",
   "metadata": {
    "ExecuteTime": {
     "end_time": "2024-06-02T14:28:17.223401Z",
     "start_time": "2024-06-02T14:28:17.211913Z"
    }
   },
   "outputs": [],
   "source": []
  },
  {
   "cell_type": "code",
   "execution_count": null,
   "id": "c00ebfaa-bcf1-430a-a0ac-5f323e659379",
   "metadata": {
    "ExecuteTime": {
     "end_time": "2024-06-02T14:28:17.238927Z",
     "start_time": "2024-06-02T14:28:17.225395Z"
    }
   },
   "outputs": [],
   "source": []
  },
  {
   "cell_type": "code",
   "execution_count": null,
   "id": "2b3f962683da89d6",
   "metadata": {
    "ExecuteTime": {
     "end_time": "2024-06-02T14:28:17.254936Z",
     "start_time": "2024-06-02T14:28:17.245425Z"
    },
    "collapsed": false,
    "jupyter": {
     "outputs_hidden": false
    }
   },
   "outputs": [],
   "source": [
    "#mc_gym.close()"
   ]
  },
  {
   "cell_type": "code",
   "execution_count": null,
   "id": "dd3c2a6ac8de199d",
   "metadata": {
    "ExecuteTime": {
     "end_time": "2024-06-02T14:28:17.271186Z",
     "start_time": "2024-06-02T14:28:17.258925Z"
    },
    "collapsed": false,
    "jupyter": {
     "outputs_hidden": false
    }
   },
   "outputs": [],
   "source": [
    "#mc_gym.reset()"
   ]
  },
  {
   "cell_type": "code",
   "execution_count": null,
   "id": "3ad6ac7227209a3c",
   "metadata": {
    "ExecuteTime": {
     "end_time": "2024-06-02T14:28:17.286693Z",
     "start_time": "2024-06-02T14:28:17.277177Z"
    },
    "collapsed": false,
    "jupyter": {
     "outputs_hidden": false
    }
   },
   "outputs": [],
   "source": []
  }
 ],
 "metadata": {
  "kernelspec": {
   "display_name": "Python 3 (ipykernel)",
   "language": "python",
   "name": "python3"
  },
  "language_info": {
   "codemirror_mode": {
    "name": "ipython",
    "version": 3
   },
   "file_extension": ".py",
   "mimetype": "text/x-python",
   "name": "python",
   "nbconvert_exporter": "python",
   "pygments_lexer": "ipython3",
   "version": "3.9.19"
  }
 },
 "nbformat": 4,
 "nbformat_minor": 5
}
