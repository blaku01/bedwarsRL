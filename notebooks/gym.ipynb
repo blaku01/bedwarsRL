{
 "cells": [
  {
   "cell_type": "code",
   "execution_count": 10,
   "id": "initial_id",
   "metadata": {
    "ExecuteTime": {
     "end_time": "2024-04-16T20:48:02.188312Z",
     "start_time": "2024-04-16T20:48:02.181800Z"
    }
   },
   "outputs": [],
   "source": [
    "from src.environments.gym_1_vs_1 import MinecraftGym"
   ]
  },
  {
   "cell_type": "code",
   "id": "9d32453fa9e25eb1",
   "metadata": {
    "ExecuteTime": {
     "end_time": "2024-04-16T20:48:02.803728Z",
     "start_time": "2024-04-16T20:48:02.787195Z"
    }
   },
   "outputs": [],
   "source": [],
   "execution_count": 10
  },
  {
   "cell_type": "code",
   "id": "66fa4289cc31a396",
   "metadata": {
    "ExecuteTime": {
     "end_time": "2024-04-16T20:48:08.832660Z",
     "start_time": "2024-04-16T20:48:03.300807Z"
    }
   },
   "outputs": [],
   "source": [
    "mc_gym = MinecraftGym()"
   ],
   "execution_count": 11
  },
  {
   "cell_type": "code",
   "outputs": [],
   "source": [
    "mc_gym.close()"
   ],
   "metadata": {
    "collapsed": false,
    "ExecuteTime": {
     "end_time": "2024-04-16T20:45:56.631542Z",
     "start_time": "2024-04-16T20:45:46.595459Z"
    }
   },
   "id": "2b3f962683da89d6",
   "execution_count": 7
  },
  {
   "cell_type": "code",
   "outputs": [
    {
     "data": {
      "text/plain": "([array([ 22.58583627, 129.61068824,  14.7       ,  17.7       ,\n           0.3       ,   0.3       ,   3.14159265,   0.        ]),\n  array([ 22.58583627, -50.38931176,   0.3       ,   0.3       ,\n          14.7       ,  17.7       ,   3.14159265,   0.        ])],\n {})"
     },
     "execution_count": 9,
     "metadata": {},
     "output_type": "execute_result"
    }
   ],
   "source": [
    "mc_gym.reset()"
   ],
   "metadata": {
    "collapsed": false,
    "ExecuteTime": {
     "end_time": "2024-04-16T20:46:10.514429Z",
     "start_time": "2024-04-16T20:46:10.482304Z"
    }
   },
   "id": "dd3c2a6ac8de199d",
   "execution_count": 9
  },
  {
   "cell_type": "code",
   "outputs": [],
   "source": [],
   "metadata": {
    "collapsed": false
   },
   "id": "3ad6ac7227209a3c"
  }
 ],
 "metadata": {
  "kernelspec": {
   "display_name": "Python 3",
   "language": "python",
   "name": "python3"
  },
  "language_info": {
   "codemirror_mode": {
    "name": "ipython",
    "version": 2
   },
   "file_extension": ".py",
   "mimetype": "text/x-python",
   "name": "python",
   "nbconvert_exporter": "python",
   "pygments_lexer": "ipython2",
   "version": "2.7.6"
  }
 },
 "nbformat": 4,
 "nbformat_minor": 5
}
