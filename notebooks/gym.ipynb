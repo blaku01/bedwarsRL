{
 "cells": [
  {
   "cell_type": "code",
   "execution_count": null,
   "id": "initial_id",
   "metadata": {},
   "outputs": [],
   "source": [
    "import gym\n",
    "import numpy as np\n",
    "from gym import spaces\n",
    "\n",
    "from bedwarsRL.agents.minecraft_agent import MinecraftAgent"
   ]
  },
  {
   "cell_type": "code",
   "id": "9d32453fa9e25eb1",
   "metadata": {},
   "outputs": [],
   "source": [
    "class MinecraftGym(gym.Env):\n",
    "    def __init__(self):\n",
    "        super(MinecraftGym, self).__init__()\n",
    "        self.agent = MinecraftAgent()  # Create an instance of MinecraftAgent\n",
    "        self.action_space = spaces.MultiBinary(7)  # 7 discrete actions\n",
    "        self.observation_space = spaces.Box(\n",
    "            low=-np.inf, high=np.inf, shape=(13,), dtype=np.float32\n",
    "        )  # Observation space\n",
    "        self.iters = 0\n",
    "\n",
    "    def reset(self):\n",
    "        self.agent.bot.chat(f\"/kill {self.agent.enemy}\")\n",
    "        self.agent.bot.chat(f\"/kill {self.agent.bot.username}\")\n",
    "        # Return initial observation\n",
    "        return self.agent.get_model_input(), {}\n",
    "\n",
    "    def step(self, action):\n",
    "        self.iters += 1\n",
    "        # Execute one time step within the environment\n",
    "        # Apply action on the agent\n",
    "        reward = self.agent.update_agent_state(action)\n",
    "        # Get observation after the action\n",
    "        observation = self.agent.get_model_input()\n",
    "\n",
    "        terminated = self.agent.attack_count >= 3\n",
    "        # Return observation, reward, done, info\n",
    "\n",
    "        truncated = self.iters > 500\n",
    "\n",
    "        return observation, reward, terminated, truncated, {}\n",
    "\n",
    "    def render(self, mode=\"human\"):\n",
    "        # Render the environment to the screen\n",
    "        pass\n",
    "\n",
    "    def close(self):\n",
    "        self.agent.bot.chat(f\"/kill {self.agent.enemy}\")\n",
    "        self.agent.bot.chat(f\"/kill {self.agent.bot.username}\")\n",
    "        pass"
   ]
  },
  {
   "cell_type": "code",
   "id": "66fa4289cc31a396",
   "metadata": {},
   "outputs": [],
   "source": []
  }
 ],
 "metadata": {
  "kernelspec": {
   "display_name": "Python 3",
   "language": "python",
   "name": "python3"
  },
  "language_info": {
   "codemirror_mode": {
    "name": "ipython",
    "version": 2
   },
   "file_extension": ".py",
   "mimetype": "text/x-python",
   "name": "python",
   "nbconvert_exporter": "python",
   "pygments_lexer": "ipython2",
   "version": "2.7.6"
  }
 },
 "nbformat": 4,
 "nbformat_minor": 5
}
