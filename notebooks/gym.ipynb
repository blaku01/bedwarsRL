{
 "cells": [
  {
   "cell_type": "code",
   "execution_count": 1,
   "id": "initial_id",
   "metadata": {
    "ExecuteTime": {
     "end_time": "2024-04-16T20:48:02.188312Z",
     "start_time": "2024-04-16T20:48:02.181800Z"
    }
   },
   "outputs": [
    {
     "name": "stdout",
     "output_type": "stream",
     "text": [
      "Error: client timed out after 6000 milliseconds\n",
      "\n",
      "    at Timeout._onTimeout (E:\\studia\\systemy_inteligentne\\bedwarsRL\\env\\lib\\site-packages\\javascript\\js\\node_modules\\\u001b[4mminecraft-protocol\u001b[24m\\src\\client\\keepalive.js:18:28)\n",
      "\n",
      "\u001b[90m    at listOnTimeout (node:internal/timers:573:17)\u001b[39m\n",
      "\n",
      "\u001b[90m    at process.processTimers (node:internal/timers:514:7)\u001b[39m\n",
      "\n"
     ]
    }
   ],
   "source": [
    "from src.environments.gym_1_vs_1 import MinecraftGym\n",
    "from src.train.train_dqn import train_dqn"
   ]
  },
  {
   "cell_type": "code",
   "execution_count": null,
   "id": "9d32453fa9e25eb1",
   "metadata": {
    "ExecuteTime": {
     "end_time": "2024-04-16T20:48:02.803728Z",
     "start_time": "2024-04-16T20:48:02.787195Z"
    }
   },
   "outputs": [],
   "source": []
  },
  {
   "cell_type": "code",
   "execution_count": 2,
   "id": "66fa4289cc31a396",
   "metadata": {
    "ExecuteTime": {
     "end_time": "2024-04-16T20:48:08.832660Z",
     "start_time": "2024-04-16T20:48:03.300807Z"
    }
   },
   "outputs": [],
   "source": [
    "mc_gym = MinecraftGym()"
   ]
  },
  {
   "cell_type": "code",
   "execution_count": 3,
   "id": "bf72d0e7-15f8-4d5b-8b67-cf0e662242e8",
   "metadata": {},
   "outputs": [
    {
     "name": "stdout",
     "output_type": "stream",
     "text": [
      "distance angle [ 22.30425968 129.54244651]\n",
      "distance to walls [[14.7 17.7]\n",
      " [ 0.3  0.3]]\n",
      "head rotation [3.71755131 0.        ]\n",
      "full model input [ 22.30425968 129.54244651  14.7         17.7          0.3\n",
      "   0.3          3.71755131   0.        ]\n",
      "distance angle [ 22.30425968 -50.45755349]\n",
      "distance to walls [[ 0.5  0.5]\n",
      " [14.5 17.5]]\n",
      "head rotation [3.14159265 0.        ]\n",
      "full model input [ 22.30425968 -50.45755349   0.5          0.5         14.5\n",
      "  17.5          3.14159265   0.        ]\n"
     ]
    },
    {
     "data": {
      "text/plain": [
       "array([[ 22.30425968, 129.54244651,  14.7       ,  17.7       ,\n",
       "          0.3       ,   0.3       ,   3.71755131,   0.        ],\n",
       "       [ 22.30425968, -50.45755349,   0.5       ,   0.5       ,\n",
       "         14.5       ,  17.5       ,   3.14159265,   0.        ]])"
      ]
     },
     "execution_count": 3,
     "metadata": {},
     "output_type": "execute_result"
    }
   ],
   "source": [
    "mc_gym.get_observations()"
   ]
  },
  {
   "cell_type": "code",
   "execution_count": 26,
   "id": "8200927d-2399-4e8d-9ef2-068ca64a15fc",
   "metadata": {},
   "outputs": [
    {
     "name": "stderr",
     "output_type": "stream",
     "text": [
      "ERROR:root:Error in step: Invalid observation shape in step: (2, 8)\n"
     ]
    },
    {
     "name": "stdout",
     "output_type": "stream",
     "text": [
      "distance angle [ 22.30425968 129.54244651]\n",
      "distance to walls [[14.7 17.7]\n",
      " [ 0.3  0.3]]\n",
      "head rotation [2.31370478e-13 1.50011049e+00]\n",
      "full model input [2.23042597e+01 1.29542447e+02 1.47000000e+01 1.77000000e+01\n",
      " 3.00000000e-01 3.00000000e-01 2.31370478e-13 1.50011049e+00]\n",
      "distance angle (None, None)\n",
      "distance to walls [[ 0.5  0.5]\n",
      " [14.5 17.5]]\n",
      "head rotation [1.95399252e-13 1.50011049e+00]\n",
      "full model input [None None 0.5 0.5 14.5 17.5 1.9539925233402755e-13 1.500110492089033]\n"
     ]
    },
    {
     "data": {
      "text/plain": [
       "(array([[0., 0., 0., 0., 0., 0., 0., 0., 0., 0., 0., 0., 0.],\n",
       "        [0., 0., 0., 0., 0., 0., 0., 0., 0., 0., 0., 0., 0.]]),\n",
       " 0,\n",
       " False,\n",
       " False,\n",
       " {})"
      ]
     },
     "execution_count": 26,
     "metadata": {},
     "output_type": "execute_result"
    }
   ],
   "source": [
    "mc_gym.step([[False, False, False, False, False, False, False, 0, 1.5, True], [False, False, False, False, False, False, False, 0, 1.5, True]])"
   ]
  },
  {
   "cell_type": "code",
   "execution_count": null,
   "id": "e46ccd9a-9a93-45b6-a506-37272f61279a",
   "metadata": {},
   "outputs": [],
   "source": []
  },
  {
   "cell_type": "code",
   "execution_count": 4,
   "id": "f2c61d1c-b616-4a94-9707-26529ac22fe9",
   "metadata": {},
   "outputs": [
    {
     "name": "stderr",
     "output_type": "stream",
     "text": [
      "ERROR:root:Error in step: invalid index to scalar variable.\n",
      "ERROR:root:Error in step: invalid index to scalar variable.\n",
      "ERROR:root:Error in step: invalid index to scalar variable.\n",
      "ERROR:root:Error in step: invalid index to scalar variable.\n",
      "ERROR:root:Error in step: invalid index to scalar variable.\n",
      "ERROR:root:Error in step: invalid index to scalar variable.\n",
      "ERROR:root:Error in step: invalid index to scalar variable.\n",
      "ERROR:root:Error in step: invalid index to scalar variable.\n",
      "ERROR:root:Error in step: invalid index to scalar variable.\n",
      "ERROR:root:Error in step: invalid index to scalar variable.\n",
      "ERROR:root:Error in step: invalid index to scalar variable.\n",
      "ERROR:root:Error in step: invalid index to scalar variable.\n",
      "ERROR:root:Error in step: invalid index to scalar variable.\n",
      "ERROR:root:Error in step: invalid index to scalar variable.\n",
      "ERROR:root:Error in step: invalid index to scalar variable.\n",
      "ERROR:root:Error in step: invalid index to scalar variable.\n",
      "ERROR:root:Error in step: invalid index to scalar variable.\n",
      "ERROR:root:Error in step: invalid index to scalar variable.\n",
      "ERROR:root:Error in step: invalid index to scalar variable.\n",
      "ERROR:root:Error in step: invalid index to scalar variable.\n",
      "ERROR:root:Error in step: invalid index to scalar variable.\n",
      "ERROR:root:Error in step: invalid index to scalar variable.\n",
      "ERROR:root:Error in step: invalid index to scalar variable.\n",
      "ERROR:root:Error in step: invalid index to scalar variable.\n",
      "ERROR:root:Error in step: invalid index to scalar variable.\n",
      "ERROR:root:Error in step: invalid index to scalar variable.\n",
      "ERROR:root:Error in step: invalid index to scalar variable.\n",
      "ERROR:root:Error in step: invalid index to scalar variable.\n"
     ]
    },
    {
     "name": "stdout",
     "output_type": "stream",
     "text": [
      "distance angle [ 22.30425968 129.54244651]\n",
      "distance to walls [[14.7 17.7]\n",
      " [ 0.3  0.3]]\n",
      "head rotation [3.71755131 0.        ]\n",
      "full model input [ 22.30425968 129.54244651  14.7         17.7          0.3\n",
      "   0.3          3.71755131   0.        ]\n",
      "distance angle [ 22.30425968 -50.45755349]\n",
      "distance to walls [[ 0.5  0.5]\n",
      " [14.5 17.5]]\n",
      "head rotation [3.14159265 0.        ]\n",
      "full model input [ 22.30425968 -50.45755349   0.5          0.5         14.5\n",
      "  17.5          3.14159265   0.        ]\n"
     ]
    },
    {
     "name": "stderr",
     "output_type": "stream",
     "text": [
      "ERROR:root:Error in step: invalid index to scalar variable.\n",
      "ERROR:root:Error in step: invalid index to scalar variable.\n",
      "ERROR:root:Error in step: invalid index to scalar variable.\n",
      "ERROR:root:Error in step: invalid index to scalar variable.\n",
      "ERROR:root:Error in step: invalid index to scalar variable.\n",
      "ERROR:root:Error in step: invalid index to scalar variable.\n",
      "ERROR:root:Error in step: invalid index to scalar variable.\n",
      "ERROR:root:Error in step: invalid index to scalar variable.\n",
      "ERROR:root:Error in step: invalid index to scalar variable.\n",
      "ERROR:root:Error in step: invalid index to scalar variable.\n",
      "ERROR:root:Error in step: invalid index to scalar variable.\n",
      "ERROR:root:Error in step: invalid index to scalar variable.\n",
      "ERROR:root:Error in step: invalid index to scalar variable.\n",
      "ERROR:root:Error in step: invalid index to scalar variable.\n",
      "ERROR:root:Error in step: invalid index to scalar variable.\n",
      "ERROR:root:Error in step: invalid index to scalar variable.\n",
      "ERROR:root:Error in step: invalid index to scalar variable.\n",
      "ERROR:root:Error in step: invalid index to scalar variable.\n",
      "ERROR:root:Error in step: invalid index to scalar variable.\n",
      "ERROR:root:Error in step: invalid index to scalar variable.\n",
      "ERROR:root:Error in step: invalid index to scalar variable.\n",
      "ERROR:root:Error in step: invalid index to scalar variable.\n",
      "ERROR:root:Error in step: invalid index to scalar variable.\n",
      "ERROR:root:Error in step: invalid index to scalar variable.\n",
      "ERROR:root:Error in step: invalid index to scalar variable.\n",
      "ERROR:root:Error in step: invalid index to scalar variable.\n",
      "ERROR:root:Error in step: invalid index to scalar variable.\n",
      "ERROR:root:Error in step: invalid index to scalar variable.\n",
      "ERROR:root:Error in step: invalid index to scalar variable.\n",
      "ERROR:root:Error in step: invalid index to scalar variable.\n",
      "ERROR:root:Error in step: invalid index to scalar variable.\n",
      "ERROR:root:Error in step: invalid index to scalar variable.\n",
      "ERROR:root:Error in step: invalid index to scalar variable.\n",
      "ERROR:root:Error in step: invalid index to scalar variable.\n",
      "ERROR:root:Error in step: invalid index to scalar variable.\n",
      "ERROR:root:Error in step: invalid index to scalar variable.\n"
     ]
    },
    {
     "ename": "RuntimeError",
     "evalue": "Sizes of tensors must match except in dimension 0. Expected size 49 but got size 4 for tensor number 8 in the list.",
     "output_type": "error",
     "traceback": [
      "\u001b[1;31m---------------------------------------------------------------------------\u001b[0m",
      "\u001b[1;31mRuntimeError\u001b[0m                              Traceback (most recent call last)",
      "Cell \u001b[1;32mIn[4], line 1\u001b[0m\n\u001b[1;32m----> 1\u001b[0m \u001b[43mtrain_dqn\u001b[49m\u001b[43m(\u001b[49m\u001b[43mmc_gym\u001b[49m\u001b[43m,\u001b[49m\u001b[43m \u001b[49m\u001b[43mnum_episodes\u001b[49m\u001b[38;5;241;43m=\u001b[39;49m\u001b[38;5;241;43m1000\u001b[39;49m\u001b[43m,\u001b[49m\u001b[43m \u001b[49m\u001b[43mbatch_size\u001b[49m\u001b[38;5;241;43m=\u001b[39;49m\u001b[38;5;241;43m64\u001b[39;49m\u001b[43m)\u001b[49m\n",
      "File \u001b[1;32me:\\studia\\systemy_inteligentne\\bedwarsrl\\src\\train\\train_dqn.py:107\u001b[0m, in \u001b[0;36mtrain_dqn\u001b[1;34m(env, num_episodes, batch_size, gamma, epsilon_start, epsilon_end, epsilon_decay, target_update, memory_capacity)\u001b[0m\n\u001b[0;32m    103\u001b[0m memory\u001b[38;5;241m.\u001b[39mpush(state, action, next_state, reward)\n\u001b[0;32m    105\u001b[0m state \u001b[38;5;241m=\u001b[39m next_state\n\u001b[1;32m--> 107\u001b[0m \u001b[43moptimize_model\u001b[49m\u001b[43m(\u001b[49m\u001b[43m)\u001b[49m\n\u001b[0;32m    109\u001b[0m \u001b[38;5;28;01mif\u001b[39;00m done \u001b[38;5;129;01mor\u001b[39;00m truncated:\n\u001b[0;32m    110\u001b[0m     \u001b[38;5;28;01mbreak\u001b[39;00m\n",
      "File \u001b[1;32me:\\studia\\systemy_inteligentne\\bedwarsrl\\src\\train\\train_dqn.py:72\u001b[0m, in \u001b[0;36mtrain_dqn.<locals>.optimize_model\u001b[1;34m()\u001b[0m\n\u001b[0;32m     69\u001b[0m batch \u001b[38;5;241m=\u001b[39m memory\u001b[38;5;241m.\u001b[39mTransition(\u001b[38;5;241m*\u001b[39m\u001b[38;5;28mzip\u001b[39m(\u001b[38;5;241m*\u001b[39mtransitions))\n\u001b[0;32m     71\u001b[0m state_batch \u001b[38;5;241m=\u001b[39m torch\u001b[38;5;241m.\u001b[39mcat(batch\u001b[38;5;241m.\u001b[39mstate)\n\u001b[1;32m---> 72\u001b[0m action_batch \u001b[38;5;241m=\u001b[39m \u001b[43mtorch\u001b[49m\u001b[38;5;241;43m.\u001b[39;49m\u001b[43mcat\u001b[49m\u001b[43m(\u001b[49m\u001b[43mbatch\u001b[49m\u001b[38;5;241;43m.\u001b[39;49m\u001b[43maction\u001b[49m\u001b[43m)\u001b[49m\n\u001b[0;32m     73\u001b[0m reward_batch \u001b[38;5;241m=\u001b[39m torch\u001b[38;5;241m.\u001b[39mcat(batch\u001b[38;5;241m.\u001b[39mreward)\n\u001b[0;32m     74\u001b[0m next_state_batch \u001b[38;5;241m=\u001b[39m torch\u001b[38;5;241m.\u001b[39mcat(batch\u001b[38;5;241m.\u001b[39mnext_state)\n",
      "\u001b[1;31mRuntimeError\u001b[0m: Sizes of tensors must match except in dimension 0. Expected size 49 but got size 4 for tensor number 8 in the list."
     ]
    }
   ],
   "source": [
    "train_dqn(mc_gym, num_episodes=1000, batch_size=64)"
   ]
  },
  {
   "cell_type": "code",
   "execution_count": null,
   "id": "dd1ed278-a324-49b6-864f-d6372f59418f",
   "metadata": {},
   "outputs": [],
   "source": []
  },
  {
   "cell_type": "code",
   "execution_count": null,
   "id": "c00ebfaa-bcf1-430a-a0ac-5f323e659379",
   "metadata": {},
   "outputs": [],
   "source": []
  },
  {
   "cell_type": "code",
   "execution_count": 7,
   "id": "2b3f962683da89d6",
   "metadata": {
    "ExecuteTime": {
     "end_time": "2024-04-16T20:45:56.631542Z",
     "start_time": "2024-04-16T20:45:46.595459Z"
    },
    "collapsed": false,
    "jupyter": {
     "outputs_hidden": false
    }
   },
   "outputs": [],
   "source": [
    "mc_gym.close()"
   ]
  },
  {
   "cell_type": "code",
   "execution_count": 9,
   "id": "dd3c2a6ac8de199d",
   "metadata": {
    "ExecuteTime": {
     "end_time": "2024-04-16T20:46:10.514429Z",
     "start_time": "2024-04-16T20:46:10.482304Z"
    },
    "collapsed": false,
    "jupyter": {
     "outputs_hidden": false
    }
   },
   "outputs": [
    {
     "data": {
      "text/plain": [
       "([array([ 22.58583627, 129.61068824,  14.7       ,  17.7       ,\n",
       "           0.3       ,   0.3       ,   3.14159265,   0.        ]),\n",
       "  array([ 22.58583627, -50.38931176,   0.3       ,   0.3       ,\n",
       "          14.7       ,  17.7       ,   3.14159265,   0.        ])],\n",
       " {})"
      ]
     },
     "execution_count": 9,
     "metadata": {},
     "output_type": "execute_result"
    }
   ],
   "source": [
    "mc_gym.reset()"
   ]
  },
  {
   "cell_type": "code",
   "execution_count": null,
   "id": "3ad6ac7227209a3c",
   "metadata": {
    "collapsed": false,
    "jupyter": {
     "outputs_hidden": false
    }
   },
   "outputs": [],
   "source": []
  }
 ],
 "metadata": {
  "kernelspec": {
   "display_name": "Python 3 (ipykernel)",
   "language": "python",
   "name": "python3"
  },
  "language_info": {
   "codemirror_mode": {
    "name": "ipython",
    "version": 3
   },
   "file_extension": ".py",
   "mimetype": "text/x-python",
   "name": "python",
   "nbconvert_exporter": "python",
   "pygments_lexer": "ipython3",
   "version": "3.9.19"
  }
 },
 "nbformat": 4,
 "nbformat_minor": 5
}
