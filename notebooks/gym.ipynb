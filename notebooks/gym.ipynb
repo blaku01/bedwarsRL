{
 "cells": [
  {
   "cell_type": "code",
   "id": "initial_id",
   "metadata": {
    "ExecuteTime": {
     "end_time": "2024-06-01T11:59:43.036264Z",
     "start_time": "2024-06-01T11:59:39.376087Z"
    }
   },
   "source": [
    "from src.environments.gym_1_vs_1 import MinecraftGym\n",
    "from src.train.train_dqn import train_dqn"
   ],
   "outputs": [],
   "execution_count": 1
  },
  {
   "cell_type": "code",
   "id": "66fa4289cc31a396",
   "metadata": {
    "ExecuteTime": {
     "end_time": "2024-06-01T11:59:53.629602Z",
     "start_time": "2024-06-01T11:59:43.038787Z"
    }
   },
   "source": [
    "mc_gym = MinecraftGym()"
   ],
   "outputs": [
    {
     "name": "stderr",
     "output_type": "stream",
     "text": [
      "\u001B[32m2024-06-01 13:59:43.041\u001B[0m | \u001B[34m\u001B[1mDEBUG   \u001B[0m | \u001B[36msrc.agents.minecraft_agent\u001B[0m:\u001B[36m__init__\u001B[0m:\u001B[36m22\u001B[0m - \u001B[34m\u001B[1mInitializing MinecraftAgent with username bot1 and enemy bot2\u001B[0m\n",
      "\u001B[32m2024-06-01 13:59:43.389\u001B[0m | \u001B[1mINFO    \u001B[0m | \u001B[36msrc.agents.minecraft_agent\u001B[0m:\u001B[36m__init__\u001B[0m:\u001B[36m39\u001B[0m - \u001B[1mMinecraftAgent initialized\u001B[0m\n",
      "\u001B[32m2024-06-01 13:59:48.404\u001B[0m | \u001B[34m\u001B[1mDEBUG   \u001B[0m | \u001B[36msrc.agents.minecraft_agent\u001B[0m:\u001B[36m__init__\u001B[0m:\u001B[36m22\u001B[0m - \u001B[34m\u001B[1mInitializing MinecraftAgent with username bot2 and enemy bot1\u001B[0m\n",
      "\u001B[32m2024-06-01 13:59:48.611\u001B[0m | \u001B[1mINFO    \u001B[0m | \u001B[36msrc.agents.minecraft_agent\u001B[0m:\u001B[36m__init__\u001B[0m:\u001B[36m39\u001B[0m - \u001B[1mMinecraftAgent initialized\u001B[0m\n"
     ]
    }
   ],
   "execution_count": 2
  },
  {
   "metadata": {
    "ExecuteTime": {
     "end_time": "2024-06-01T11:59:55.524471Z",
     "start_time": "2024-06-01T11:59:53.631569Z"
    }
   },
   "cell_type": "code",
   "source": "train_dqn(mc_gym, num_episodes=1000, batch_size=64)",
   "id": "c7125349cc894a8d",
   "outputs": [
    {
     "name": "stderr",
     "output_type": "stream",
     "text": [
      "\u001B[32m2024-06-01 13:59:53.636\u001B[0m | \u001B[1mINFO    \u001B[0m | \u001B[36msrc.train.train_dqn\u001B[0m:\u001B[36mtrain_dqn\u001B[0m:\u001B[36m47\u001B[0m - \u001B[1mStarting DQN training\u001B[0m\n",
      "\u001B[32m2024-06-01 13:59:53.639\u001B[0m | \u001B[1mINFO    \u001B[0m | \u001B[36msrc.train.train_dqn\u001B[0m:\u001B[36mtrain_dqn\u001B[0m:\u001B[36m49\u001B[0m - \u001B[1mUsing device: cpu\u001B[0m\n",
      "\u001B[32m2024-06-01 13:59:53.643\u001B[0m | \u001B[1mINFO    \u001B[0m | \u001B[36msrc.train.train_dqn\u001B[0m:\u001B[36mtrain_dqn\u001B[0m:\u001B[36m56\u001B[0m - \u001B[1mInitialized policy and target networks\u001B[0m\n",
      "\u001B[32m2024-06-01 13:59:54.796\u001B[0m | \u001B[1mINFO    \u001B[0m | \u001B[36msrc.train.train_dqn\u001B[0m:\u001B[36m__init__\u001B[0m:\u001B[36m31\u001B[0m - \u001B[1mInitialized ReplayMemory with capacity 10000\u001B[0m\n",
      "\u001B[32m2024-06-01 13:59:54.802\u001B[0m | \u001B[34m\u001B[1mDEBUG   \u001B[0m | \u001B[36msrc.agents.minecraft_agent\u001B[0m:\u001B[36mget_model_input\u001B[0m:\u001B[36m123\u001B[0m - \u001B[34m\u001B[1mGetting model input\u001B[0m\n",
      "\u001B[32m2024-06-01 13:59:54.809\u001B[0m | \u001B[34m\u001B[1mDEBUG   \u001B[0m | \u001B[36msrc.agents.minecraft_agent\u001B[0m:\u001B[36mget_model_input\u001B[0m:\u001B[36m126\u001B[0m - \u001B[34m\u001B[1mentity_name: 3,type: hostile\u001B[0m\n",
      "\u001B[32m2024-06-01 13:59:54.811\u001B[0m | \u001B[34m\u001B[1mDEBUG   \u001B[0m | \u001B[36msrc.agents.minecraft_agent\u001B[0m:\u001B[36mget_model_input\u001B[0m:\u001B[36m126\u001B[0m - \u001B[34m\u001B[1mentity_name: 4,type: hostile\u001B[0m\n",
      "\u001B[32m2024-06-01 13:59:54.812\u001B[0m | \u001B[34m\u001B[1mDEBUG   \u001B[0m | \u001B[36msrc.agents.minecraft_agent\u001B[0m:\u001B[36mget_model_input\u001B[0m:\u001B[36m126\u001B[0m - \u001B[34m\u001B[1mentity_name: 6,type: animal\u001B[0m\n",
      "\u001B[32m2024-06-01 13:59:54.813\u001B[0m | \u001B[34m\u001B[1mDEBUG   \u001B[0m | \u001B[36msrc.agents.minecraft_agent\u001B[0m:\u001B[36mget_model_input\u001B[0m:\u001B[36m126\u001B[0m - \u001B[34m\u001B[1mentity_name: 46,type: hostile\u001B[0m\n",
      "\u001B[32m2024-06-01 13:59:54.815\u001B[0m | \u001B[34m\u001B[1mDEBUG   \u001B[0m | \u001B[36msrc.agents.minecraft_agent\u001B[0m:\u001B[36mget_model_input\u001B[0m:\u001B[36m126\u001B[0m - \u001B[34m\u001B[1mentity_name: 62,type: hostile\u001B[0m\n",
      "\u001B[32m2024-06-01 13:59:54.815\u001B[0m | \u001B[34m\u001B[1mDEBUG   \u001B[0m | \u001B[36msrc.agents.minecraft_agent\u001B[0m:\u001B[36mget_model_input\u001B[0m:\u001B[36m126\u001B[0m - \u001B[34m\u001B[1mentity_name: 67,type: hostile\u001B[0m\n",
      "\u001B[32m2024-06-01 13:59:54.817\u001B[0m | \u001B[34m\u001B[1mDEBUG   \u001B[0m | \u001B[36msrc.agents.minecraft_agent\u001B[0m:\u001B[36mget_model_input\u001B[0m:\u001B[36m126\u001B[0m - \u001B[34m\u001B[1mentity_name: 98,type: hostile\u001B[0m\n",
      "\u001B[32m2024-06-01 13:59:54.819\u001B[0m | \u001B[34m\u001B[1mDEBUG   \u001B[0m | \u001B[36msrc.agents.minecraft_agent\u001B[0m:\u001B[36mget_model_input\u001B[0m:\u001B[36m126\u001B[0m - \u001B[34m\u001B[1mentity_name: 100,type: hostile\u001B[0m\n",
      "\u001B[32m2024-06-01 13:59:54.820\u001B[0m | \u001B[34m\u001B[1mDEBUG   \u001B[0m | \u001B[36msrc.agents.minecraft_agent\u001B[0m:\u001B[36mget_model_input\u001B[0m:\u001B[36m126\u001B[0m - \u001B[34m\u001B[1mentity_name: 107,type: hostile\u001B[0m\n",
      "\u001B[32m2024-06-01 13:59:54.821\u001B[0m | \u001B[34m\u001B[1mDEBUG   \u001B[0m | \u001B[36msrc.agents.minecraft_agent\u001B[0m:\u001B[36mget_model_input\u001B[0m:\u001B[36m126\u001B[0m - \u001B[34m\u001B[1mentity_name: 108,type: hostile\u001B[0m\n",
      "\u001B[32m2024-06-01 13:59:54.822\u001B[0m | \u001B[34m\u001B[1mDEBUG   \u001B[0m | \u001B[36msrc.agents.minecraft_agent\u001B[0m:\u001B[36mget_model_input\u001B[0m:\u001B[36m126\u001B[0m - \u001B[34m\u001B[1mentity_name: 109,type: hostile\u001B[0m\n",
      "\u001B[32m2024-06-01 13:59:54.824\u001B[0m | \u001B[34m\u001B[1mDEBUG   \u001B[0m | \u001B[36msrc.agents.minecraft_agent\u001B[0m:\u001B[36mget_model_input\u001B[0m:\u001B[36m126\u001B[0m - \u001B[34m\u001B[1mentity_name: 133,type: hostile\u001B[0m\n",
      "\u001B[32m2024-06-01 13:59:54.825\u001B[0m | \u001B[34m\u001B[1mDEBUG   \u001B[0m | \u001B[36msrc.agents.minecraft_agent\u001B[0m:\u001B[36mget_model_input\u001B[0m:\u001B[36m126\u001B[0m - \u001B[34m\u001B[1mentity_name: 253,type: player\u001B[0m\n",
      "\u001B[32m2024-06-01 13:59:54.829\u001B[0m | \u001B[34m\u001B[1mDEBUG   \u001B[0m | \u001B[36msrc.agents.minecraft_agent\u001B[0m:\u001B[36mget_model_input\u001B[0m:\u001B[36m126\u001B[0m - \u001B[34m\u001B[1mentity_name: 1747,type: hostile\u001B[0m\n",
      "\u001B[32m2024-06-01 13:59:54.830\u001B[0m | \u001B[34m\u001B[1mDEBUG   \u001B[0m | \u001B[36msrc.agents.minecraft_agent\u001B[0m:\u001B[36mget_model_input\u001B[0m:\u001B[36m126\u001B[0m - \u001B[34m\u001B[1mentity_name: 1748,type: hostile\u001B[0m\n",
      "\u001B[32m2024-06-01 13:59:54.832\u001B[0m | \u001B[34m\u001B[1mDEBUG   \u001B[0m | \u001B[36msrc.agents.minecraft_agent\u001B[0m:\u001B[36mget_model_input\u001B[0m:\u001B[36m126\u001B[0m - \u001B[34m\u001B[1mentity_name: 2742,type: hostile\u001B[0m\n",
      "\u001B[32m2024-06-01 13:59:54.835\u001B[0m | \u001B[34m\u001B[1mDEBUG   \u001B[0m | \u001B[36msrc.agents.minecraft_agent\u001B[0m:\u001B[36mget_model_input\u001B[0m:\u001B[36m126\u001B[0m - \u001B[34m\u001B[1mentity_name: 2814,type: hostile\u001B[0m\n",
      "\u001B[32m2024-06-01 13:59:54.837\u001B[0m | \u001B[34m\u001B[1mDEBUG   \u001B[0m | \u001B[36msrc.agents.minecraft_agent\u001B[0m:\u001B[36mget_model_input\u001B[0m:\u001B[36m126\u001B[0m - \u001B[34m\u001B[1mentity_name: 6239,type: hostile\u001B[0m\n",
      "\u001B[32m2024-06-01 13:59:54.838\u001B[0m | \u001B[34m\u001B[1mDEBUG   \u001B[0m | \u001B[36msrc.agents.minecraft_agent\u001B[0m:\u001B[36mget_model_input\u001B[0m:\u001B[36m126\u001B[0m - \u001B[34m\u001B[1mentity_name: 6526,type: hostile\u001B[0m\n",
      "\u001B[32m2024-06-01 13:59:54.840\u001B[0m | \u001B[34m\u001B[1mDEBUG   \u001B[0m | \u001B[36msrc.agents.minecraft_agent\u001B[0m:\u001B[36mget_model_input\u001B[0m:\u001B[36m126\u001B[0m - \u001B[34m\u001B[1mentity_name: 6775,type: hostile\u001B[0m\n",
      "\u001B[32m2024-06-01 13:59:54.842\u001B[0m | \u001B[34m\u001B[1mDEBUG   \u001B[0m | \u001B[36msrc.agents.minecraft_agent\u001B[0m:\u001B[36mget_model_input\u001B[0m:\u001B[36m126\u001B[0m - \u001B[34m\u001B[1mentity_name: 6939,type: water_creature\u001B[0m\n",
      "\u001B[32m2024-06-01 13:59:54.845\u001B[0m | \u001B[34m\u001B[1mDEBUG   \u001B[0m | \u001B[36msrc.agents.minecraft_agent\u001B[0m:\u001B[36mget_model_input\u001B[0m:\u001B[36m126\u001B[0m - \u001B[34m\u001B[1mentity_name: 6947,type: hostile\u001B[0m\n",
      "\u001B[32m2024-06-01 13:59:54.847\u001B[0m | \u001B[34m\u001B[1mDEBUG   \u001B[0m | \u001B[36msrc.agents.minecraft_agent\u001B[0m:\u001B[36mget_model_input\u001B[0m:\u001B[36m126\u001B[0m - \u001B[34m\u001B[1mentity_name: 6982,type: hostile\u001B[0m\n",
      "\u001B[32m2024-06-01 13:59:54.849\u001B[0m | \u001B[34m\u001B[1mDEBUG   \u001B[0m | \u001B[36msrc.agents.minecraft_agent\u001B[0m:\u001B[36mget_model_input\u001B[0m:\u001B[36m126\u001B[0m - \u001B[34m\u001B[1mentity_name: 6988,type: hostile\u001B[0m\n",
      "\u001B[32m2024-06-01 13:59:54.851\u001B[0m | \u001B[34m\u001B[1mDEBUG   \u001B[0m | \u001B[36msrc.agents.minecraft_agent\u001B[0m:\u001B[36mget_model_input\u001B[0m:\u001B[36m126\u001B[0m - \u001B[34m\u001B[1mentity_name: 7023,type: hostile\u001B[0m\n",
      "\u001B[32m2024-06-01 13:59:54.853\u001B[0m | \u001B[34m\u001B[1mDEBUG   \u001B[0m | \u001B[36msrc.agents.minecraft_agent\u001B[0m:\u001B[36mget_model_input\u001B[0m:\u001B[36m126\u001B[0m - \u001B[34m\u001B[1mentity_name: 7035,type: hostile\u001B[0m\n",
      "\u001B[32m2024-06-01 13:59:54.855\u001B[0m | \u001B[34m\u001B[1mDEBUG   \u001B[0m | \u001B[36msrc.agents.minecraft_agent\u001B[0m:\u001B[36mget_model_input\u001B[0m:\u001B[36m126\u001B[0m - \u001B[34m\u001B[1mentity_name: 7062,type: hostile\u001B[0m\n",
      "\u001B[32m2024-06-01 13:59:54.857\u001B[0m | \u001B[34m\u001B[1mDEBUG   \u001B[0m | \u001B[36msrc.agents.minecraft_agent\u001B[0m:\u001B[36mget_model_input\u001B[0m:\u001B[36m126\u001B[0m - \u001B[34m\u001B[1mentity_name: 7078,type: ambient\u001B[0m\n",
      "\u001B[32m2024-06-01 13:59:54.858\u001B[0m | \u001B[34m\u001B[1mDEBUG   \u001B[0m | \u001B[36msrc.agents.minecraft_agent\u001B[0m:\u001B[36mget_model_input\u001B[0m:\u001B[36m126\u001B[0m - \u001B[34m\u001B[1mentity_name: 7094,type: water_creature\u001B[0m\n",
      "\u001B[32m2024-06-01 13:59:54.860\u001B[0m | \u001B[34m\u001B[1mDEBUG   \u001B[0m | \u001B[36msrc.agents.minecraft_agent\u001B[0m:\u001B[36mget_model_input\u001B[0m:\u001B[36m126\u001B[0m - \u001B[34m\u001B[1mentity_name: 7095,type: water_creature\u001B[0m\n",
      "\u001B[32m2024-06-01 13:59:54.861\u001B[0m | \u001B[34m\u001B[1mDEBUG   \u001B[0m | \u001B[36msrc.agents.minecraft_agent\u001B[0m:\u001B[36mget_model_input\u001B[0m:\u001B[36m126\u001B[0m - \u001B[34m\u001B[1mentity_name: 7097,type: hostile\u001B[0m\n",
      "\u001B[32m2024-06-01 13:59:54.863\u001B[0m | \u001B[34m\u001B[1mDEBUG   \u001B[0m | \u001B[36msrc.agents.minecraft_agent\u001B[0m:\u001B[36mget_model_input\u001B[0m:\u001B[36m126\u001B[0m - \u001B[34m\u001B[1mentity_name: 7098,type: hostile\u001B[0m\n",
      "\u001B[32m2024-06-01 13:59:54.865\u001B[0m | \u001B[34m\u001B[1mDEBUG   \u001B[0m | \u001B[36msrc.agents.minecraft_agent\u001B[0m:\u001B[36mget_model_input\u001B[0m:\u001B[36m126\u001B[0m - \u001B[34m\u001B[1mentity_name: 7116,type: hostile\u001B[0m\n",
      "\u001B[32m2024-06-01 13:59:54.868\u001B[0m | \u001B[34m\u001B[1mDEBUG   \u001B[0m | \u001B[36msrc.agents.minecraft_agent\u001B[0m:\u001B[36mget_model_input\u001B[0m:\u001B[36m126\u001B[0m - \u001B[34m\u001B[1mentity_name: 7117,type: hostile\u001B[0m\n",
      "\u001B[32m2024-06-01 13:59:54.870\u001B[0m | \u001B[34m\u001B[1mDEBUG   \u001B[0m | \u001B[36msrc.agents.minecraft_agent\u001B[0m:\u001B[36mget_model_input\u001B[0m:\u001B[36m126\u001B[0m - \u001B[34m\u001B[1mentity_name: 7123,type: hostile\u001B[0m\n",
      "\u001B[32m2024-06-01 13:59:54.873\u001B[0m | \u001B[34m\u001B[1mDEBUG   \u001B[0m | \u001B[36msrc.agents.minecraft_agent\u001B[0m:\u001B[36mget_model_input\u001B[0m:\u001B[36m126\u001B[0m - \u001B[34m\u001B[1mentity_name: 7126,type: mob\u001B[0m\n",
      "\u001B[32m2024-06-01 13:59:54.875\u001B[0m | \u001B[34m\u001B[1mDEBUG   \u001B[0m | \u001B[36msrc.agents.minecraft_agent\u001B[0m:\u001B[36mget_model_input\u001B[0m:\u001B[36m126\u001B[0m - \u001B[34m\u001B[1mentity_name: 7129,type: ambient\u001B[0m\n",
      "\u001B[32m2024-06-01 13:59:54.876\u001B[0m | \u001B[34m\u001B[1mDEBUG   \u001B[0m | \u001B[36msrc.agents.minecraft_agent\u001B[0m:\u001B[36mget_model_input\u001B[0m:\u001B[36m126\u001B[0m - \u001B[34m\u001B[1mentity_name: 7130,type: ambient\u001B[0m\n",
      "\u001B[32m2024-06-01 13:59:54.879\u001B[0m | \u001B[34m\u001B[1mDEBUG   \u001B[0m | \u001B[36msrc.agents.minecraft_agent\u001B[0m:\u001B[36mget_model_input\u001B[0m:\u001B[36m126\u001B[0m - \u001B[34m\u001B[1mentity_name: 7141,type: hostile\u001B[0m\n",
      "\u001B[32m2024-06-01 13:59:54.880\u001B[0m | \u001B[34m\u001B[1mDEBUG   \u001B[0m | \u001B[36msrc.agents.minecraft_agent\u001B[0m:\u001B[36mget_model_input\u001B[0m:\u001B[36m126\u001B[0m - \u001B[34m\u001B[1mentity_name: 7142,type: hostile\u001B[0m\n",
      "\u001B[32m2024-06-01 13:59:54.883\u001B[0m | \u001B[34m\u001B[1mDEBUG   \u001B[0m | \u001B[36msrc.agents.minecraft_agent\u001B[0m:\u001B[36mget_model_input\u001B[0m:\u001B[36m126\u001B[0m - \u001B[34m\u001B[1mentity_name: 7143,type: hostile\u001B[0m\n",
      "\u001B[32m2024-06-01 13:59:54.885\u001B[0m | \u001B[34m\u001B[1mDEBUG   \u001B[0m | \u001B[36msrc.agents.minecraft_agent\u001B[0m:\u001B[36mget_model_input\u001B[0m:\u001B[36m126\u001B[0m - \u001B[34m\u001B[1mentity_name: 7144,type: hostile\u001B[0m\n",
      "\u001B[32m2024-06-01 13:59:54.887\u001B[0m | \u001B[34m\u001B[1mDEBUG   \u001B[0m | \u001B[36msrc.agents.minecraft_agent\u001B[0m:\u001B[36mget_model_input\u001B[0m:\u001B[36m126\u001B[0m - \u001B[34m\u001B[1mentity_name: 7145,type: ambient\u001B[0m\n",
      "\u001B[32m2024-06-01 13:59:54.889\u001B[0m | \u001B[34m\u001B[1mDEBUG   \u001B[0m | \u001B[36msrc.agents.minecraft_agent\u001B[0m:\u001B[36mget_model_input\u001B[0m:\u001B[36m126\u001B[0m - \u001B[34m\u001B[1mentity_name: 7146,type: hostile\u001B[0m\n",
      "\u001B[32m2024-06-01 13:59:54.891\u001B[0m | \u001B[34m\u001B[1mDEBUG   \u001B[0m | \u001B[36msrc.agents.minecraft_agent\u001B[0m:\u001B[36mget_model_input\u001B[0m:\u001B[36m126\u001B[0m - \u001B[34m\u001B[1mentity_name: 7149,type: hostile\u001B[0m\n",
      "\u001B[32m2024-06-01 13:59:54.893\u001B[0m | \u001B[34m\u001B[1mDEBUG   \u001B[0m | \u001B[36msrc.agents.minecraft_agent\u001B[0m:\u001B[36mget_model_input\u001B[0m:\u001B[36m126\u001B[0m - \u001B[34m\u001B[1mentity_name: 7150,type: hostile\u001B[0m\n",
      "\u001B[32m2024-06-01 13:59:54.895\u001B[0m | \u001B[34m\u001B[1mDEBUG   \u001B[0m | \u001B[36msrc.agents.minecraft_agent\u001B[0m:\u001B[36mget_model_input\u001B[0m:\u001B[36m126\u001B[0m - \u001B[34m\u001B[1mentity_name: 7154,type: ambient\u001B[0m\n",
      "\u001B[32m2024-06-01 13:59:54.896\u001B[0m | \u001B[34m\u001B[1mDEBUG   \u001B[0m | \u001B[36msrc.agents.minecraft_agent\u001B[0m:\u001B[36mget_model_input\u001B[0m:\u001B[36m126\u001B[0m - \u001B[34m\u001B[1mentity_name: 7155,type: ambient\u001B[0m\n",
      "\u001B[32m2024-06-01 13:59:54.898\u001B[0m | \u001B[34m\u001B[1mDEBUG   \u001B[0m | \u001B[36msrc.agents.minecraft_agent\u001B[0m:\u001B[36mget_model_input\u001B[0m:\u001B[36m126\u001B[0m - \u001B[34m\u001B[1mentity_name: 7158,type: ambient\u001B[0m\n",
      "\u001B[32m2024-06-01 13:59:54.900\u001B[0m | \u001B[34m\u001B[1mDEBUG   \u001B[0m | \u001B[36msrc.agents.minecraft_agent\u001B[0m:\u001B[36mget_model_input\u001B[0m:\u001B[36m126\u001B[0m - \u001B[34m\u001B[1mentity_name: 7162,type: ambient\u001B[0m\n",
      "\u001B[32m2024-06-01 13:59:54.902\u001B[0m | \u001B[34m\u001B[1mDEBUG   \u001B[0m | \u001B[36msrc.agents.minecraft_agent\u001B[0m:\u001B[36mget_model_input\u001B[0m:\u001B[36m126\u001B[0m - \u001B[34m\u001B[1mentity_name: 7165,type: water_creature\u001B[0m\n",
      "\u001B[32m2024-06-01 13:59:54.904\u001B[0m | \u001B[34m\u001B[1mDEBUG   \u001B[0m | \u001B[36msrc.agents.minecraft_agent\u001B[0m:\u001B[36mget_model_input\u001B[0m:\u001B[36m126\u001B[0m - \u001B[34m\u001B[1mentity_name: 7166,type: hostile\u001B[0m\n",
      "\u001B[32m2024-06-01 13:59:54.906\u001B[0m | \u001B[34m\u001B[1mDEBUG   \u001B[0m | \u001B[36msrc.agents.minecraft_agent\u001B[0m:\u001B[36mget_model_input\u001B[0m:\u001B[36m126\u001B[0m - \u001B[34m\u001B[1mentity_name: 7167,type: hostile\u001B[0m\n",
      "\u001B[32m2024-06-01 13:59:54.909\u001B[0m | \u001B[34m\u001B[1mDEBUG   \u001B[0m | \u001B[36msrc.agents.minecraft_agent\u001B[0m:\u001B[36mget_model_input\u001B[0m:\u001B[36m126\u001B[0m - \u001B[34m\u001B[1mentity_name: 7168,type: hostile\u001B[0m\n",
      "\u001B[32m2024-06-01 13:59:54.911\u001B[0m | \u001B[34m\u001B[1mDEBUG   \u001B[0m | \u001B[36msrc.agents.minecraft_agent\u001B[0m:\u001B[36mget_model_input\u001B[0m:\u001B[36m126\u001B[0m - \u001B[34m\u001B[1mentity_name: 7171,type: hostile\u001B[0m\n",
      "\u001B[32m2024-06-01 13:59:54.913\u001B[0m | \u001B[34m\u001B[1mDEBUG   \u001B[0m | \u001B[36msrc.agents.minecraft_agent\u001B[0m:\u001B[36mget_model_input\u001B[0m:\u001B[36m126\u001B[0m - \u001B[34m\u001B[1mentity_name: 7172,type: ambient\u001B[0m\n",
      "\u001B[32m2024-06-01 13:59:54.914\u001B[0m | \u001B[34m\u001B[1mDEBUG   \u001B[0m | \u001B[36msrc.agents.minecraft_agent\u001B[0m:\u001B[36mget_model_input\u001B[0m:\u001B[36m126\u001B[0m - \u001B[34m\u001B[1mentity_name: 7173,type: ambient\u001B[0m\n",
      "\u001B[32m2024-06-01 13:59:54.916\u001B[0m | \u001B[34m\u001B[1mDEBUG   \u001B[0m | \u001B[36msrc.agents.minecraft_agent\u001B[0m:\u001B[36mget_model_input\u001B[0m:\u001B[36m126\u001B[0m - \u001B[34m\u001B[1mentity_name: 7177,type: hostile\u001B[0m\n",
      "\u001B[32m2024-06-01 13:59:54.918\u001B[0m | \u001B[34m\u001B[1mDEBUG   \u001B[0m | \u001B[36msrc.agents.minecraft_agent\u001B[0m:\u001B[36mget_model_input\u001B[0m:\u001B[36m126\u001B[0m - \u001B[34m\u001B[1mentity_name: 7178,type: hostile\u001B[0m\n",
      "\u001B[32m2024-06-01 13:59:54.920\u001B[0m | \u001B[34m\u001B[1mDEBUG   \u001B[0m | \u001B[36msrc.agents.minecraft_agent\u001B[0m:\u001B[36mget_model_input\u001B[0m:\u001B[36m126\u001B[0m - \u001B[34m\u001B[1mentity_name: 7179,type: hostile\u001B[0m\n",
      "\u001B[32m2024-06-01 13:59:54.921\u001B[0m | \u001B[34m\u001B[1mDEBUG   \u001B[0m | \u001B[36msrc.agents.minecraft_agent\u001B[0m:\u001B[36mget_model_input\u001B[0m:\u001B[36m126\u001B[0m - \u001B[34m\u001B[1mentity_name: 7180,type: ambient\u001B[0m\n",
      "\u001B[32m2024-06-01 13:59:54.923\u001B[0m | \u001B[34m\u001B[1mDEBUG   \u001B[0m | \u001B[36msrc.agents.minecraft_agent\u001B[0m:\u001B[36mget_model_input\u001B[0m:\u001B[36m126\u001B[0m - \u001B[34m\u001B[1mentity_name: 7183,type: hostile\u001B[0m\n",
      "\u001B[32m2024-06-01 13:59:54.925\u001B[0m | \u001B[34m\u001B[1mDEBUG   \u001B[0m | \u001B[36msrc.agents.minecraft_agent\u001B[0m:\u001B[36mget_model_input\u001B[0m:\u001B[36m126\u001B[0m - \u001B[34m\u001B[1mentity_name: 7190,type: player\u001B[0m\n",
      "\u001B[32m2024-06-01 13:59:54.931\u001B[0m | \u001B[34m\u001B[1mDEBUG   \u001B[0m | \u001B[36msrc.agents.minecraft_agent\u001B[0m:\u001B[36mget_model_input\u001B[0m:\u001B[36m126\u001B[0m - \u001B[34m\u001B[1mentity_name: 7201,type: water_creature\u001B[0m\n",
      "\u001B[32m2024-06-01 13:59:54.934\u001B[0m | \u001B[34m\u001B[1mDEBUG   \u001B[0m | \u001B[36msrc.agents.minecraft_agent\u001B[0m:\u001B[36mget_model_input\u001B[0m:\u001B[36m126\u001B[0m - \u001B[34m\u001B[1mentity_name: 7202,type: water_creature\u001B[0m\n",
      "\u001B[32m2024-06-01 13:59:54.936\u001B[0m | \u001B[34m\u001B[1mDEBUG   \u001B[0m | \u001B[36msrc.agents.minecraft_agent\u001B[0m:\u001B[36mget_model_input\u001B[0m:\u001B[36m126\u001B[0m - \u001B[34m\u001B[1mentity_name: 7204,type: water_creature\u001B[0m\n",
      "\u001B[32m2024-06-01 13:59:54.938\u001B[0m | \u001B[34m\u001B[1mDEBUG   \u001B[0m | \u001B[36msrc.agents.minecraft_agent\u001B[0m:\u001B[36mget_model_input\u001B[0m:\u001B[36m126\u001B[0m - \u001B[34m\u001B[1mentity_name: 7205,type: hostile\u001B[0m\n",
      "\u001B[32m2024-06-01 13:59:54.940\u001B[0m | \u001B[34m\u001B[1mDEBUG   \u001B[0m | \u001B[36msrc.agents.minecraft_agent\u001B[0m:\u001B[36mget_model_input\u001B[0m:\u001B[36m126\u001B[0m - \u001B[34m\u001B[1mentity_name: 7206,type: player\u001B[0m\n",
      "\u001B[32m2024-06-01 13:59:54.946\u001B[0m | \u001B[34m\u001B[1mDEBUG   \u001B[0m | \u001B[36msrc.agents.minecraft_agent\u001B[0m:\u001B[36mget_model_input\u001B[0m:\u001B[36m126\u001B[0m - \u001B[34m\u001B[1mentity_name: 7225,type: ambient\u001B[0m\n",
      "\u001B[32m2024-06-01 13:59:54.947\u001B[0m | \u001B[34m\u001B[1mDEBUG   \u001B[0m | \u001B[36msrc.agents.minecraft_agent\u001B[0m:\u001B[36mget_model_input\u001B[0m:\u001B[36m126\u001B[0m - \u001B[34m\u001B[1mentity_name: 7228,type: ambient\u001B[0m\n",
      "\u001B[32m2024-06-01 13:59:54.949\u001B[0m | \u001B[34m\u001B[1mDEBUG   \u001B[0m | \u001B[36msrc.agents.minecraft_agent\u001B[0m:\u001B[36mget_model_input\u001B[0m:\u001B[36m126\u001B[0m - \u001B[34m\u001B[1mentity_name: 7229,type: hostile\u001B[0m\n",
      "\u001B[32m2024-06-01 13:59:54.979\u001B[0m | \u001B[1mINFO    \u001B[0m | \u001B[36msrc.agents.minecraft_agent\u001B[0m:\u001B[36mget_model_input\u001B[0m:\u001B[36m144\u001B[0m - \u001B[1mModel input: [ 22.02271555 129.47245985  14.5         17.5          0.5\n",
      "   0.5          3.14159265   0.        ]\u001B[0m\n",
      "\u001B[32m2024-06-01 13:59:54.981\u001B[0m | \u001B[1mINFO    \u001B[0m | \u001B[36msrc.train.train_dqn\u001B[0m:\u001B[36mtrain_dqn\u001B[0m:\u001B[36m125\u001B[0m - \u001B[1mStarting episode 0\u001B[0m\n",
      "\u001B[32m2024-06-01 13:59:54.983\u001B[0m | \u001B[34m\u001B[1mDEBUG   \u001B[0m | \u001B[36msrc.train.train_dqn\u001B[0m:\u001B[36mselect_action\u001B[0m:\u001B[36m69\u001B[0m - \u001B[34m\u001B[1mSelecting action with epsilon 1.0 at step 1\u001B[0m\n",
      "\u001B[32m2024-06-01 13:59:54.985\u001B[0m | \u001B[34m\u001B[1mDEBUG   \u001B[0m | \u001B[36msrc.train.train_dqn\u001B[0m:\u001B[36mselect_action\u001B[0m:\u001B[36m90\u001B[0m - \u001B[34m\u001B[1mSelected random action: [1.         1.         0.         0.         0.         0.\n",
      " 1.         0.38568285 0.43712112 1.        ]\u001B[0m\n",
      "\u001B[32m2024-06-01 13:59:54.987\u001B[0m | \u001B[1mINFO    \u001B[0m | \u001B[36msrc.environments.gym_1_vs_1\u001B[0m:\u001B[36mstep\u001B[0m:\u001B[36m68\u001B[0m - \u001B[1mAction: [True, True, False, False, False, False, True, 0.3856828510761261, 0.43712112307548523, True]\u001B[0m\n",
      "\u001B[32m2024-06-01 13:59:54.988\u001B[0m | \u001B[34m\u001B[1mDEBUG   \u001B[0m | \u001B[36msrc.agents.minecraft_agent\u001B[0m:\u001B[36mupdate_agent_state\u001B[0m:\u001B[36m83\u001B[0m - \u001B[34m\u001B[1mUpdating agent state: [True, True, False, False, False, False, True, 0.3856828510761261, 0.43712112307548523, True]\u001B[0m\n",
      "\u001B[32m2024-06-01 13:59:54.990\u001B[0m | \u001B[34m\u001B[1mDEBUG   \u001B[0m | \u001B[36msrc.agents.minecraft_agent\u001B[0m:\u001B[36mget_enemy\u001B[0m:\u001B[36m68\u001B[0m - \u001B[34m\u001B[1mGetting enemy\u001B[0m\n",
      "\u001B[32m2024-06-01 13:59:54.996\u001B[0m | \u001B[34m\u001B[1mDEBUG   \u001B[0m | \u001B[36msrc.agents.minecraft_agent\u001B[0m:\u001B[36mget_enemy\u001B[0m:\u001B[36m70\u001B[0m - \u001B[34m\u001B[1mentity_name: 7190,type: player\u001B[0m\n",
      "\u001B[32m2024-06-01 13:59:55.002\u001B[0m | \u001B[1mINFO    \u001B[0m | \u001B[36msrc.agents.minecraft_agent\u001B[0m:\u001B[36mget_enemy\u001B[0m:\u001B[36m78\u001B[0m - \u001B[1mEnemy not found\u001B[0m\n",
      "\u001B[32m2024-06-01 13:59:55.005\u001B[0m | \u001B[34m\u001B[1mDEBUG   \u001B[0m | \u001B[36msrc.agents.minecraft_agent\u001B[0m:\u001B[36mset_control_state\u001B[0m:\u001B[36m43\u001B[0m - \u001B[34m\u001B[1mSetting control state: [True, True, False, False, False, False, True]\u001B[0m\n",
      "\u001B[32m2024-06-01 13:59:55.019\u001B[0m | \u001B[1mINFO    \u001B[0m | \u001B[36msrc.agents.minecraft_agent\u001B[0m:\u001B[36mset_control_state\u001B[0m:\u001B[36m48\u001B[0m - \u001B[1mControl state set to: OrderedDict([('forward', True), ('back', True), ('left', False), ('right', False), ('jump', False), ('sprint', False), ('sneak', True)])\u001B[0m\n",
      "\u001B[32m2024-06-01 13:59:55.021\u001B[0m | \u001B[34m\u001B[1mDEBUG   \u001B[0m | \u001B[36msrc.agents.minecraft_agent\u001B[0m:\u001B[36mlook_around\u001B[0m:\u001B[36m63\u001B[0m - \u001B[34m\u001B[1mLooking around with pitch: 0.3856828510761261, yaw: 0.43712112307548523\u001B[0m\n",
      "\u001B[32m2024-06-01 13:59:55.027\u001B[0m | \u001B[1mINFO    \u001B[0m | \u001B[36msrc.agents.minecraft_agent\u001B[0m:\u001B[36mlook_around\u001B[0m:\u001B[36m65\u001B[0m - \u001B[1mLook around executed\u001B[0m\n",
      "\u001B[32m2024-06-01 13:59:55.029\u001B[0m | \u001B[34m\u001B[1mDEBUG   \u001B[0m | \u001B[36msrc.agents.minecraft_agent\u001B[0m:\u001B[36mswing\u001B[0m:\u001B[36m52\u001B[0m - \u001B[34m\u001B[1mAttempting to swing\u001B[0m\n",
      "\u001B[32m2024-06-01 13:59:55.034\u001B[0m | \u001B[1mINFO    \u001B[0m | \u001B[36msrc.agents.minecraft_agent\u001B[0m:\u001B[36mswing\u001B[0m:\u001B[36m58\u001B[0m - \u001B[1mSwing failed, no entity on cursor\u001B[0m\n",
      "\u001B[32m2024-06-01 13:59:55.036\u001B[0m | \u001B[1mINFO    \u001B[0m | \u001B[36msrc.agents.minecraft_agent\u001B[0m:\u001B[36mupdate_agent_state\u001B[0m:\u001B[36m118\u001B[0m - \u001B[1mAgent state updated, Q value: 0.0\u001B[0m\n",
      "\u001B[32m2024-06-01 13:59:55.037\u001B[0m | \u001B[34m\u001B[1mDEBUG   \u001B[0m | \u001B[36msrc.environments.gym_1_vs_1\u001B[0m:\u001B[36mstep\u001B[0m:\u001B[36m73\u001B[0m - \u001B[34m\u001B[1mUpdated agent state with action [True, True, False, False, False, False, True, 0.3856828510761261, 0.43712112307548523, True], reward: 0.0\u001B[0m\n",
      "\u001B[32m2024-06-01 13:59:55.039\u001B[0m | \u001B[34m\u001B[1mDEBUG   \u001B[0m | \u001B[36msrc.agents.minecraft_agent\u001B[0m:\u001B[36mget_model_input\u001B[0m:\u001B[36m123\u001B[0m - \u001B[34m\u001B[1mGetting model input\u001B[0m\n",
      "\u001B[32m2024-06-01 13:59:55.044\u001B[0m | \u001B[34m\u001B[1mDEBUG   \u001B[0m | \u001B[36msrc.agents.minecraft_agent\u001B[0m:\u001B[36mget_model_input\u001B[0m:\u001B[36m126\u001B[0m - \u001B[34m\u001B[1mentity_name: 7190,type: player\u001B[0m\n",
      "\u001B[32m2024-06-01 13:59:55.070\u001B[0m | \u001B[1mINFO    \u001B[0m | \u001B[36msrc.agents.minecraft_agent\u001B[0m:\u001B[36mget_model_input\u001B[0m:\u001B[36m144\u001B[0m - \u001B[1mModel input: [None None 14.5 17.5 0.5 0.5 0.3848451000649211 0.43720497762455235]\u001B[0m\n",
      "\u001B[32m2024-06-01 13:59:55.075\u001B[0m | \u001B[34m\u001B[1mDEBUG   \u001B[0m | \u001B[36msrc.environments.gym_1_vs_1\u001B[0m:\u001B[36mstep\u001B[0m:\u001B[36m76\u001B[0m - \u001B[34m\u001B[1mObtained observation: [None None 14.5 17.5 0.5 0.5 0.3848451000649211 0.43720497762455235]\u001B[0m\n",
      "\u001B[32m2024-06-01 13:59:55.077\u001B[0m | \u001B[34m\u001B[1mDEBUG   \u001B[0m | \u001B[36msrc.environments.gym_1_vs_1\u001B[0m:\u001B[36mstep\u001B[0m:\u001B[36m79\u001B[0m - \u001B[34m\u001B[1mSwitched to next agent: <src.agents.minecraft_agent.MinecraftAgent object at 0x000001D55EB65A00>\u001B[0m\n",
      "\u001B[32m2024-06-01 13:59:55.078\u001B[0m | \u001B[1mINFO    \u001B[0m | \u001B[36msrc.environments.gym_1_vs_1\u001B[0m:\u001B[36mstep\u001B[0m:\u001B[36m86\u001B[0m - \u001B[1mStep result - Terminated: False, Truncated: False\u001B[0m\n"
     ]
    },
    {
     "ename": "TypeError",
     "evalue": "can't convert np.ndarray of type numpy.object_. The only supported types are: float64, float32, float16, complex64, complex128, int64, int32, int16, int8, uint64, uint32, uint16, uint8, and bool.",
     "output_type": "error",
     "traceback": [
      "\u001B[1;31m---------------------------------------------------------------------------\u001B[0m",
      "\u001B[1;31mTypeError\u001B[0m                                 Traceback (most recent call last)",
      "Cell \u001B[1;32mIn[3], line 1\u001B[0m\n\u001B[1;32m----> 1\u001B[0m \u001B[43mtrain_dqn\u001B[49m\u001B[43m(\u001B[49m\u001B[43mmc_gym\u001B[49m\u001B[43m,\u001B[49m\u001B[43m \u001B[49m\u001B[43mnum_episodes\u001B[49m\u001B[38;5;241;43m=\u001B[39;49m\u001B[38;5;241;43m1000\u001B[39;49m\u001B[43m,\u001B[49m\u001B[43m \u001B[49m\u001B[43mbatch_size\u001B[49m\u001B[38;5;241;43m=\u001B[39;49m\u001B[38;5;241;43m64\u001B[39;49m\u001B[43m)\u001B[49m\n",
      "File \u001B[1;32m~\\PycharmProjects\\bedwarsRL\\src\\train\\train_dqn.py:135\u001B[0m, in \u001B[0;36mtrain_dqn\u001B[1;34m(env, num_episodes, batch_size, gamma, epsilon_start, epsilon_end, epsilon_decay, target_update, memory_capacity)\u001B[0m\n\u001B[0;32m    132\u001B[0m     \u001B[38;5;28;01mbreak\u001B[39;00m\n\u001B[0;32m    133\u001B[0m reward \u001B[38;5;241m=\u001B[39m torch\u001B[38;5;241m.\u001B[39mtensor([reward], device\u001B[38;5;241m=\u001B[39mdevice)\n\u001B[1;32m--> 135\u001B[0m next_state \u001B[38;5;241m=\u001B[39m \u001B[43mtorch\u001B[49m\u001B[38;5;241;43m.\u001B[39;49m\u001B[43mtensor\u001B[49m\u001B[43m(\u001B[49m\u001B[43mnext_state\u001B[49m\u001B[43m,\u001B[49m\u001B[43m \u001B[49m\u001B[43mdevice\u001B[49m\u001B[38;5;241;43m=\u001B[39;49m\u001B[43mdevice\u001B[49m\u001B[43m,\u001B[49m\u001B[43m \u001B[49m\u001B[43mdtype\u001B[49m\u001B[38;5;241;43m=\u001B[39;49m\u001B[43mtorch\u001B[49m\u001B[38;5;241;43m.\u001B[39;49m\u001B[43mfloat32\u001B[49m\u001B[43m)\u001B[49m\u001B[38;5;241m.\u001B[39munsqueeze(\u001B[38;5;241m0\u001B[39m)\n\u001B[0;32m    137\u001B[0m memory\u001B[38;5;241m.\u001B[39mpush(state, action, next_state, reward)\n\u001B[0;32m    138\u001B[0m logger\u001B[38;5;241m.\u001B[39mdebug(\u001B[38;5;124mf\u001B[39m\u001B[38;5;124m\"\u001B[39m\u001B[38;5;124mTransition added to memory: state=\u001B[39m\u001B[38;5;132;01m{\u001B[39;00mstate\u001B[38;5;132;01m}\u001B[39;00m\u001B[38;5;124m, action=\u001B[39m\u001B[38;5;132;01m{\u001B[39;00maction\u001B[38;5;132;01m}\u001B[39;00m\u001B[38;5;124m, next_state=\u001B[39m\u001B[38;5;132;01m{\u001B[39;00mnext_state\u001B[38;5;132;01m}\u001B[39;00m\u001B[38;5;124m, reward=\u001B[39m\u001B[38;5;132;01m{\u001B[39;00mreward\u001B[38;5;132;01m}\u001B[39;00m\u001B[38;5;124m\"\u001B[39m)\n",
      "\u001B[1;31mTypeError\u001B[0m: can't convert np.ndarray of type numpy.object_. The only supported types are: float64, float32, float16, complex64, complex128, int64, int32, int16, int8, uint64, uint32, uint16, uint8, and bool."
     ]
    }
   ],
   "execution_count": 3
  },
  {
   "cell_type": "code",
   "id": "e46ccd9a-9a93-45b6-a506-37272f61279a",
   "metadata": {
    "ExecuteTime": {
     "end_time": "2024-06-01T11:59:55.527463Z",
     "start_time": "2024-06-01T11:59:55.526466Z"
    }
   },
   "source": [],
   "outputs": [],
   "execution_count": null
  },
  {
   "cell_type": "code",
   "id": "dd1ed278-a324-49b6-864f-d6372f59418f",
   "metadata": {},
   "source": [],
   "outputs": [],
   "execution_count": null
  },
  {
   "cell_type": "code",
   "id": "c00ebfaa-bcf1-430a-a0ac-5f323e659379",
   "metadata": {},
   "source": [],
   "outputs": [],
   "execution_count": null
  },
  {
   "cell_type": "code",
   "id": "2b3f962683da89d6",
   "metadata": {
    "collapsed": false,
    "jupyter": {
     "outputs_hidden": false
    }
   },
   "source": "#mc_gym.close()",
   "outputs": [],
   "execution_count": null
  },
  {
   "cell_type": "code",
   "id": "dd3c2a6ac8de199d",
   "metadata": {
    "collapsed": false,
    "jupyter": {
     "outputs_hidden": false
    }
   },
   "source": "#mc_gym.reset()",
   "outputs": [],
   "execution_count": null
  },
  {
   "cell_type": "code",
   "id": "3ad6ac7227209a3c",
   "metadata": {
    "collapsed": false,
    "jupyter": {
     "outputs_hidden": false
    }
   },
   "source": [],
   "outputs": [],
   "execution_count": null
  }
 ],
 "metadata": {
  "kernelspec": {
   "display_name": "Python 3 (ipykernel)",
   "language": "python",
   "name": "python3"
  },
  "language_info": {
   "codemirror_mode": {
    "name": "ipython",
    "version": 3
   },
   "file_extension": ".py",
   "mimetype": "text/x-python",
   "name": "python",
   "nbconvert_exporter": "python",
   "pygments_lexer": "ipython3",
   "version": "3.9.19"
  }
 },
 "nbformat": 4,
 "nbformat_minor": 5
}
