{
 "cells": [
  {
   "cell_type": "code",
   "execution_count": null,
   "id": "ff37b021600e3a4c",
   "metadata": {},
   "outputs": [],
   "source": [
    "from src.utils.helpers import distance_to_all_rectangle_walls"
   ]
  },
  {
   "cell_type": "code",
   "execution_count": null,
   "id": "6d3a2d92687e076b",
   "metadata": {},
   "outputs": [],
   "source": [
    "import time\n",
    "\n",
    "from javascript import require\n",
    "\n",
    "from src.agents.minecraft_agent import MinecraftAgent\n",
    "\n",
    "mineflayer = require(\"mineflayer\")\n",
    "pathfinder = require(\"mineflayer-pathfinder\")\n",
    "vec3 = require(\"vec3\").Vec3"
   ]
  },
  {
   "cell_type": "code",
   "execution_count": null,
   "id": "f8a028ec93a3150e",
   "metadata": {},
   "outputs": [],
   "source": [
    "cord_1 = vec3(-10, 142, 86)\n",
    "cord_2 = vec3(9, 148, 64)\n",
    "\n",
    "\n",
    "rog_planszy_1 = (-8, 84)\n",
    "rog_planszy_2 = (7, 66)"
   ]
  },
  {
   "cell_type": "code",
   "id": "e5eff7f71a1579c5",
   "metadata": {},
   "outputs": [],
   "source": [
    "agent_1 = MinecraftAgent(server_ip=\"26.70.149.205\", port=25565, username=\"bot1\", enemy=\"bot2\")"
   ]
  },
  {
   "cell_type": "code",
   "execution_count": null,
   "id": "13ff5e33a12f06e9",
   "metadata": {},
   "outputs": [],
   "source": [
    "agent_2 = MinecraftAgent(server_ip=\"26.70.149.205\", port=25565, username=\"bot2\", enemy=\"bot1\")"
   ]
  },
  {
   "cell_type": "code",
   "execution_count": null,
   "id": "3bc778b9ebce5f6b",
   "metadata": {},
   "outputs": [],
   "source": [
    "print(agent_1.get_model_input())"
   ]
  },
  {
   "cell_type": "code",
   "execution_count": null,
   "id": "a05c061da532ada4",
   "metadata": {},
   "outputs": [],
   "source": [
    "agent_1.bot.entity.yaw"
   ]
  },
  {
   "cell_type": "code",
   "execution_count": null,
   "id": "2c0e04cb4eedf621",
   "metadata": {},
   "outputs": [],
   "source": [
    "# player_entities_positions"
   ]
  },
  {
   "cell_type": "code",
   "execution_count": null,
   "id": "ade6695799dd06eb",
   "metadata": {},
   "outputs": [],
   "source": [
    "agent_1.set_control_state([False, False, False, False, False, False, False])"
   ]
  },
  {
   "cell_type": "code",
   "execution_count": null,
   "id": "7a9f5f8aa97f9d82",
   "metadata": {},
   "outputs": [],
   "source": [
    "agent_1.control_state"
   ]
  },
  {
   "cell_type": "code",
   "execution_count": null,
   "id": "63c4cf6f97a1f9e6",
   "metadata": {},
   "outputs": [],
   "source": [
    "agent_2.update_agent_state([False, False, False, False, False, False, False, 0, 0, True])"
   ]
  },
  {
   "cell_type": "code",
   "execution_count": null,
   "id": "ffcc1d1d4b519798",
   "metadata": {},
   "outputs": [],
   "source": [
    "agent_1.bot.look(0, 0, True)"
   ]
  },
  {
   "cell_type": "code",
   "execution_count": null,
   "id": "33853f976d831e80",
   "metadata": {},
   "outputs": [],
   "source": [
    "agent_1.swing()"
   ]
  },
  {
   "cell_type": "markdown",
   "id": "971bb3fe242b7d00",
   "metadata": {},
   "source": [
    "## COLUMNS (CHUNK) RELATED"
   ]
  },
  {
   "cell_type": "code",
   "id": "349a34537f39820e",
   "metadata": {},
   "outputs": [],
   "source": [
    "columns = agent_1.bot.world.getColumns()"
   ]
  },
  {
   "cell_type": "code",
   "id": "6bd9d26846247990",
   "metadata": {},
   "outputs": [],
   "source": [
    "columns"
   ]
  },
  {
   "cell_type": "code",
   "id": "7d9a184f91d484be",
   "metadata": {},
   "outputs": [],
   "source": [
    "player_pos = agent_1.bot.entity.position\n",
    "player_pos"
   ]
  },
  {
   "cell_type": "code",
   "id": "12d4f4801292b56b",
   "metadata": {},
   "outputs": [],
   "source": [
    "# start_time = time.time()\n",
    "# player_pos_x = int(player_pos['x'])\n",
    "# player_pos_y = int(player_pos['y'])\n",
    "# player_pos_z = int(player_pos['z'])\n",
    "# world = bot.world.sync\n",
    "# for col in range(player_pos_x-3, player_pos_x+3):\n",
    "#     for row in range(player_pos_z-3, player_pos_z+3):\n",
    "#         max_attempts = 10\n",
    "#         attempts = 0\n",
    "#         print(bot.world.getBlock(vec3(col, player_pos_y-10, row)).name, \"at pos\", \"(\", col, player_pos_y-10, row, \")\")"
   ]
  },
  {
   "cell_type": "code",
   "id": "29ed90fadd47ef88",
   "metadata": {},
   "outputs": [],
   "source": [
    "!pip install matplotlib"
   ]
  },
  {
   "cell_type": "code",
   "id": "c0196a423f26e519",
   "metadata": {},
   "outputs": [],
   "source": [
    "import matplotlib.pyplot as plt\n",
    "\n",
    "figure = plt.figure()\n",
    "axes = figure.add_axes([0, 0, 1, 1])\n",
    "Vec3 = require(\"vec3\").Vec3\n",
    "\n",
    "columns = agent_1.bot.world.getColumns()\n",
    "block_freqs = {}\n",
    "for c in range(0, 3):  # iterate through some of the loaded chunk columns\n",
    "    cc = columns[c].column\n",
    "    for y in range(1, 40):\n",
    "        for x in range(1, 16):\n",
    "            for z in range(1, 16):\n",
    "                block = cc.getBlock(Vec3(x, y, z))\n",
    "                if block.name in block_freqs:\n",
    "                    block_freqs[block.name] += 1\n",
    "                else:\n",
    "                    block_freqs[block.name] = 1\n",
    "\n",
    "print(block_freqs)\n",
    "axes.bar(block_freqs.keys(), block_freqs.values())\n",
    "plt.xticks(rotation=45)\n",
    "plt.show()"
   ]
  },
  {
   "cell_type": "code",
   "id": "371dd4eb9297d0e2",
   "metadata": {},
   "outputs": [],
   "source": [
    "import json\n",
    "\n",
    "json.loads(cc.toJson()).keys()"
   ]
  },
  {
   "cell_type": "code",
   "id": "16753bdc1dd16656",
   "metadata": {},
   "outputs": [],
   "source": [
    "for column in columns:\n",
    "    print(column.chunkX, column.chunkZ)"
   ]
  },
  {
   "cell_type": "code",
   "execution_count": null,
   "id": "201e40fea137b879",
   "metadata": {},
   "outputs": [],
   "source": []
  },
  {
   "cell_type": "code",
   "id": "cdfa086405278b6f",
   "metadata": {},
   "outputs": [],
   "source": []
  }
 ],
 "metadata": {
  "kernelspec": {
   "display_name": "Python 3 (ipykernel)",
   "language": "python",
   "name": "python3"
  },
  "language_info": {
   "codemirror_mode": {
    "name": "ipython",
    "version": 3
   },
   "file_extension": ".py",
   "mimetype": "text/x-python",
   "name": "python",
   "nbconvert_exporter": "python",
   "pygments_lexer": "ipython3",
   "version": "3.9.18"
  }
 },
 "nbformat": 4,
 "nbformat_minor": 5
}
