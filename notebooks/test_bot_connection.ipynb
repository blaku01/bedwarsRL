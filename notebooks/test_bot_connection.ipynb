{
 "cells": [
  {
   "cell_type": "code",
   "execution_count": null,
   "id": "c35b6fd7-83aa-436c-98c4-744cd5bd9b5f",
   "metadata": {},
   "outputs": [],
   "source": [
    "!pip install javascript"
   ]
  },
  {
   "cell_type": "code",
   "execution_count": null,
   "id": "e5908cc7-df6f-4fc1-a42d-8f3df9180acd",
   "metadata": {},
   "outputs": [],
   "source": [
    "from javascript import require\n",
    "\n",
    "mineflayer = require(\"mineflayer\")"
   ]
  },
  {
   "cell_type": "code",
   "execution_count": null,
   "id": "def525e6-8455-415d-a80f-1b05fc05260f",
   "metadata": {},
   "outputs": [],
   "source": [
    "pathfinder = require(\"mineflayer-pathfinder\")\n",
    "\n",
    "RANGE_GOAL = 1\n",
    "BOT_USERNAME = \"python\"\n",
    "\n",
    "bot = mineflayer.createBot({\"host\": \"127.0.0.1\", \"port\": 25565, \"username\": BOT_USERNAME})\n",
    "\n",
    "bot.loadPlugin(pathfinder.pathfinder)\n",
    "print(\"Started mineflayer\")"
   ]
  }
 ],
 "metadata": {
  "kernelspec": {
   "display_name": "Python 3 (ipykernel)",
   "language": "python",
   "name": "python3"
  },
  "language_info": {
   "codemirror_mode": {
    "name": "ipython",
    "version": 3
   },
   "file_extension": ".py",
   "mimetype": "text/x-python",
   "name": "python",
   "nbconvert_exporter": "python",
   "pygments_lexer": "ipython3",
   "version": "3.9.18"
  }
 },
 "nbformat": 4,
 "nbformat_minor": 5
}
