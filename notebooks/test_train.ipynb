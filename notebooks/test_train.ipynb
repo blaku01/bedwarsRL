{
 "cells": [
  {
   "cell_type": "code",
   "source": [
    "from collections import defaultdict\n",
    "\n",
    "import matplotlib.pyplot as plt\n",
    "import torch\n",
    "from tensordict.nn import TensorDictModule\n",
    "from tensordict.nn.distributions import NormalParamExtractor\n",
    "from torch import nn\n",
    "\n",
    "from torchrl.collectors import SyncDataCollector\n",
    "from torchrl.data.replay_buffers import ReplayBuffer\n",
    "from torchrl.data.replay_buffers.samplers import SamplerWithoutReplacement\n",
    "from torchrl.data.replay_buffers.storages import LazyTensorStorage\n",
    "from torchrl.envs import (\n",
    "    Compose,\n",
    "    DoubleToFloat,\n",
    "    ObservationNorm,\n",
    "    StepCounter,\n",
    "    TransformedEnv,\n",
    ")\n",
    "from torchrl.envs.libs.gym import GymEnv\n",
    "from torchrl.envs.utils import check_env_specs, ExplorationType, set_exploration_type\n",
    "from torchrl.modules import ProbabilisticActor, TanhNormal, ValueOperator\n",
    "from torchrl.objectives import ClipPPOLoss\n",
    "from torchrl.objectives.value import GAE\n",
    "from tqdm import tqdm\n",
    "import multiprocessing\n",
    "\n",
    "from src.environments.gym_1_vs_1 import MinecraftGym"
   ],
   "metadata": {
    "collapsed": false,
    "ExecuteTime": {
     "end_time": "2024-05-22T18:35:20.085277Z",
     "start_time": "2024-05-22T18:35:20.069729Z"
    }
   },
   "id": "44217d8a0a010852",
   "outputs": [],
   "execution_count": 17
  },
  {
   "cell_type": "code",
   "source": [
    "is_fork = multiprocessing.get_start_method() == \"fork\"\n",
    "device = (\n",
    "    torch.device(0)\n",
    "    if torch.cuda.is_available() and not is_fork\n",
    "    else torch.device(\"cpu\")\n",
    ")\n",
    "num_cells = 256  # number of cells in each layer i.e. output dim.\n",
    "lr = 3e-4\n",
    "max_grad_norm = 1.0\n",
    "\n",
    "\n",
    "frames_per_batch = 200\n",
    "# For a complete training, bring the number of frames up to 1M\n",
    "total_frames = 10_000\n",
    "\n",
    "\n",
    "sub_batch_size = 64  # cardinality of the sub-samples gathered from the current data in the inner loop\n",
    "num_epochs = 10  # optimisation steps per batch of data collected\n",
    "clip_epsilon = (\n",
    "    0.2  # clip value for PPO loss: see the equation in the intro for more context.\n",
    ")\n",
    "gamma = 0.99\n",
    "lmbda = 0.95\n",
    "entropy_eps = 1e-4"
   ],
   "metadata": {
    "collapsed": false,
    "ExecuteTime": {
     "end_time": "2024-05-22T18:35:20.101281Z",
     "start_time": "2024-05-22T18:35:20.087271Z"
    }
   },
   "id": "af9e316b782e52bb",
   "outputs": [],
   "execution_count": 18
  },
  {
   "cell_type": "code",
   "id": "initial_id",
   "metadata": {
    "collapsed": true,
    "ExecuteTime": {
     "end_time": "2024-05-22T18:35:25.451829Z",
     "start_time": "2024-05-22T18:35:20.102784Z"
    }
   },
   "source": [
    "base_env = MinecraftGym(device=device)\n",
    "\n",
    "env = TransformedEnv(\n",
    "    base_env,\n",
    "    Compose(\n",
    "        # normalize observations\n",
    "        ObservationNorm(in_keys=[\"observation\"]),\n",
    "        DoubleToFloat(),\n",
    "        StepCounter(),\n",
    "    ),\n",
    ")\n",
    "\n",
    "env.transform[0].init_stats(num_iter=1000, reduce_dim=0, cat_dim=0)\n",
    "\n",
    "print(\"normalization constant shape:\", env.transform[0].loc.shape)\n",
    "\n",
    "\n",
    "\n",
    "print(\"observation_spec:\", env.observation_spec)\n",
    "print(\"reward_spec:\", env.reward_spec)\n",
    "print(\"input_spec:\", env.input_spec)\n",
    "print(\"action_spec (as defined by input_spec):\", env.action_spec)"
   ],
   "outputs": [
    {
     "ename": "TypeError",
     "evalue": "_reset() takes 1 positional argument but 2 were given",
     "output_type": "error",
     "traceback": [
      "\u001B[1;31m---------------------------------------------------------------------------\u001B[0m",
      "\u001B[1;31mTypeError\u001B[0m                                 Traceback (most recent call last)",
      "Cell \u001B[1;32mIn[19], line 13\u001B[0m\n\u001B[0;32m      1\u001B[0m base_env \u001B[38;5;241m=\u001B[39m MinecraftGym(device\u001B[38;5;241m=\u001B[39mdevice)\n\u001B[0;32m      3\u001B[0m env \u001B[38;5;241m=\u001B[39m TransformedEnv(\n\u001B[0;32m      4\u001B[0m     base_env,\n\u001B[0;32m      5\u001B[0m     Compose(\n\u001B[1;32m   (...)\u001B[0m\n\u001B[0;32m     10\u001B[0m     ),\n\u001B[0;32m     11\u001B[0m )\n\u001B[1;32m---> 13\u001B[0m \u001B[43menv\u001B[49m\u001B[38;5;241;43m.\u001B[39;49m\u001B[43mtransform\u001B[49m\u001B[43m[\u001B[49m\u001B[38;5;241;43m0\u001B[39;49m\u001B[43m]\u001B[49m\u001B[38;5;241;43m.\u001B[39;49m\u001B[43minit_stats\u001B[49m\u001B[43m(\u001B[49m\u001B[43mnum_iter\u001B[49m\u001B[38;5;241;43m=\u001B[39;49m\u001B[38;5;241;43m1000\u001B[39;49m\u001B[43m,\u001B[49m\u001B[43m \u001B[49m\u001B[43mreduce_dim\u001B[49m\u001B[38;5;241;43m=\u001B[39;49m\u001B[38;5;241;43m0\u001B[39;49m\u001B[43m,\u001B[49m\u001B[43m \u001B[49m\u001B[43mcat_dim\u001B[49m\u001B[38;5;241;43m=\u001B[39;49m\u001B[38;5;241;43m0\u001B[39;49m\u001B[43m)\u001B[49m\n\u001B[0;32m     15\u001B[0m \u001B[38;5;28mprint\u001B[39m(\u001B[38;5;124m\"\u001B[39m\u001B[38;5;124mnormalization constant shape:\u001B[39m\u001B[38;5;124m\"\u001B[39m, env\u001B[38;5;241m.\u001B[39mtransform[\u001B[38;5;241m0\u001B[39m]\u001B[38;5;241m.\u001B[39mloc\u001B[38;5;241m.\u001B[39mshape)\n\u001B[0;32m     19\u001B[0m \u001B[38;5;28mprint\u001B[39m(\u001B[38;5;124m\"\u001B[39m\u001B[38;5;124mobservation_spec:\u001B[39m\u001B[38;5;124m\"\u001B[39m, env\u001B[38;5;241m.\u001B[39mobservation_spec)\n",
      "File \u001B[1;32m~\\miniforge3\\envs\\bedwarsRL\\lib\\site-packages\\torchrl\\envs\\transforms\\transforms.py:2609\u001B[0m, in \u001B[0;36mObservationNorm.init_stats\u001B[1;34m(self, num_iter, reduce_dim, cat_dim, key, keep_dims)\u001B[0m\n\u001B[0;32m   2607\u001B[0m data \u001B[38;5;241m=\u001B[39m []\n\u001B[0;32m   2608\u001B[0m \u001B[38;5;28;01mwhile\u001B[39;00m collected_frames \u001B[38;5;241m<\u001B[39m num_iter:\n\u001B[1;32m-> 2609\u001B[0m     tensordict \u001B[38;5;241m=\u001B[39m \u001B[43mparent\u001B[49m\u001B[38;5;241;43m.\u001B[39;49m\u001B[43mrollout\u001B[49m\u001B[43m(\u001B[49m\u001B[43mmax_steps\u001B[49m\u001B[38;5;241;43m=\u001B[39;49m\u001B[43mnum_iter\u001B[49m\u001B[43m)\u001B[49m\n\u001B[0;32m   2610\u001B[0m     collected_frames \u001B[38;5;241m+\u001B[39m\u001B[38;5;241m=\u001B[39m tensordict\u001B[38;5;241m.\u001B[39mnumel()\n\u001B[0;32m   2611\u001B[0m     data\u001B[38;5;241m.\u001B[39mappend(tensordict\u001B[38;5;241m.\u001B[39mget(key))\n",
      "File \u001B[1;32m~\\miniforge3\\envs\\bedwarsRL\\lib\\site-packages\\torchrl\\envs\\common.py:2546\u001B[0m, in \u001B[0;36mEnvBase.rollout\u001B[1;34m(self, max_steps, policy, callback, auto_reset, auto_cast_to_device, break_when_any_done, return_contiguous, tensordict, set_truncated, out)\u001B[0m\n\u001B[0;32m   2542\u001B[0m     \u001B[38;5;28;01mif\u001B[39;00m tensordict \u001B[38;5;129;01mis\u001B[39;00m \u001B[38;5;129;01mnot\u001B[39;00m \u001B[38;5;28;01mNone\u001B[39;00m:\n\u001B[0;32m   2543\u001B[0m         \u001B[38;5;28;01mraise\u001B[39;00m \u001B[38;5;167;01mRuntimeError\u001B[39;00m(\n\u001B[0;32m   2544\u001B[0m             \u001B[38;5;124m\"\u001B[39m\u001B[38;5;124mtensordict cannot be provided when auto_reset is True\u001B[39m\u001B[38;5;124m\"\u001B[39m\n\u001B[0;32m   2545\u001B[0m         )\n\u001B[1;32m-> 2546\u001B[0m     tensordict \u001B[38;5;241m=\u001B[39m \u001B[38;5;28;43mself\u001B[39;49m\u001B[38;5;241;43m.\u001B[39;49m\u001B[43mreset\u001B[49m\u001B[43m(\u001B[49m\u001B[43m)\u001B[49m\n\u001B[0;32m   2547\u001B[0m \u001B[38;5;28;01melif\u001B[39;00m tensordict \u001B[38;5;129;01mis\u001B[39;00m \u001B[38;5;28;01mNone\u001B[39;00m:\n\u001B[0;32m   2548\u001B[0m     \u001B[38;5;28;01mraise\u001B[39;00m \u001B[38;5;167;01mRuntimeError\u001B[39;00m(\u001B[38;5;124m\"\u001B[39m\u001B[38;5;124mtensordict must be provided when auto_reset is False\u001B[39m\u001B[38;5;124m\"\u001B[39m)\n",
      "File \u001B[1;32m~\\miniforge3\\envs\\bedwarsRL\\lib\\site-packages\\torchrl\\envs\\common.py:2120\u001B[0m, in \u001B[0;36mEnvBase.reset\u001B[1;34m(self, tensordict, **kwargs)\u001B[0m\n\u001B[0;32m   2117\u001B[0m \u001B[38;5;28;01mif\u001B[39;00m tensordict \u001B[38;5;129;01mis\u001B[39;00m \u001B[38;5;129;01mnot\u001B[39;00m \u001B[38;5;28;01mNone\u001B[39;00m:\n\u001B[0;32m   2118\u001B[0m     \u001B[38;5;28mself\u001B[39m\u001B[38;5;241m.\u001B[39m_assert_tensordict_shape(tensordict)\n\u001B[1;32m-> 2120\u001B[0m tensordict_reset \u001B[38;5;241m=\u001B[39m \u001B[38;5;28mself\u001B[39m\u001B[38;5;241m.\u001B[39m_reset(tensordict, \u001B[38;5;241m*\u001B[39m\u001B[38;5;241m*\u001B[39mkwargs)\n\u001B[0;32m   2121\u001B[0m \u001B[38;5;66;03m#        We assume that this is done properly\u001B[39;00m\n\u001B[0;32m   2122\u001B[0m \u001B[38;5;66;03m#        if reset.device != self.device:\u001B[39;00m\n\u001B[0;32m   2123\u001B[0m \u001B[38;5;66;03m#            reset = reset.to(self.device, non_blocking=True)\u001B[39;00m\n\u001B[0;32m   2124\u001B[0m \u001B[38;5;28;01mif\u001B[39;00m tensordict_reset \u001B[38;5;129;01mis\u001B[39;00m tensordict:\n",
      "File \u001B[1;32m~\\miniforge3\\envs\\bedwarsRL\\lib\\site-packages\\torchrl\\envs\\transforms\\transforms.py:809\u001B[0m, in \u001B[0;36mTransformedEnv._reset\u001B[1;34m(self, tensordict, **kwargs)\u001B[0m\n\u001B[0;32m    803\u001B[0m \u001B[38;5;28;01mif\u001B[39;00m tensordict \u001B[38;5;129;01mis\u001B[39;00m \u001B[38;5;129;01mnot\u001B[39;00m \u001B[38;5;28;01mNone\u001B[39;00m:\n\u001B[0;32m    804\u001B[0m     \u001B[38;5;66;03m# We must avoid modifying the original tensordict so a shallow copy is necessary.\u001B[39;00m\n\u001B[0;32m    805\u001B[0m     \u001B[38;5;66;03m# We just select the input data and reset signal, which is all we need.\u001B[39;00m\n\u001B[0;32m    806\u001B[0m     tensordict \u001B[38;5;241m=\u001B[39m tensordict\u001B[38;5;241m.\u001B[39mselect(\n\u001B[0;32m    807\u001B[0m         \u001B[38;5;241m*\u001B[39m\u001B[38;5;28mself\u001B[39m\u001B[38;5;241m.\u001B[39mreset_keys, \u001B[38;5;241m*\u001B[39m\u001B[38;5;28mself\u001B[39m\u001B[38;5;241m.\u001B[39mstate_spec\u001B[38;5;241m.\u001B[39mkeys(\u001B[38;5;28;01mTrue\u001B[39;00m, \u001B[38;5;28;01mTrue\u001B[39;00m), strict\u001B[38;5;241m=\u001B[39m\u001B[38;5;28;01mFalse\u001B[39;00m\n\u001B[0;32m    808\u001B[0m     )\n\u001B[1;32m--> 809\u001B[0m tensordict_reset \u001B[38;5;241m=\u001B[39m \u001B[38;5;28mself\u001B[39m\u001B[38;5;241m.\u001B[39mbase_env\u001B[38;5;241m.\u001B[39m_reset(tensordict, \u001B[38;5;241m*\u001B[39m\u001B[38;5;241m*\u001B[39mkwargs)\n\u001B[0;32m    810\u001B[0m \u001B[38;5;28;01mif\u001B[39;00m tensordict \u001B[38;5;129;01mis\u001B[39;00m \u001B[38;5;28;01mNone\u001B[39;00m:\n\u001B[0;32m    811\u001B[0m     \u001B[38;5;66;03m# make sure all transforms see a source tensordict\u001B[39;00m\n\u001B[0;32m    812\u001B[0m     tensordict \u001B[38;5;241m=\u001B[39m tensordict_reset\u001B[38;5;241m.\u001B[39mempty()\n",
      "\u001B[1;31mTypeError\u001B[0m: _reset() takes 1 positional argument but 2 were given"
     ]
    }
   ],
   "execution_count": 19
  },
  {
   "cell_type": "code",
   "source": [],
   "metadata": {
    "collapsed": false,
    "ExecuteTime": {
     "end_time": "2024-05-22T18:35:25.454007Z",
     "start_time": "2024-05-22T18:35:25.452830Z"
    }
   },
   "id": "c0ea9ab6582f787",
   "outputs": [],
   "execution_count": null
  }
 ],
 "metadata": {
  "kernelspec": {
   "display_name": "Python 3",
   "language": "python",
   "name": "python3"
  },
  "language_info": {
   "codemirror_mode": {
    "name": "ipython",
    "version": 2
   },
   "file_extension": ".py",
   "mimetype": "text/x-python",
   "name": "python",
   "nbconvert_exporter": "python",
   "pygments_lexer": "ipython2",
   "version": "2.7.6"
  }
 },
 "nbformat": 4,
 "nbformat_minor": 5
}
